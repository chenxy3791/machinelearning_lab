{
 "cells": [
  {
   "cell_type": "code",
   "execution_count": 1,
   "id": "45bd81bb",
   "metadata": {},
   "outputs": [],
   "source": [
    "import numpy as np\n",
    "from scipy import stats"
   ]
  },
  {
   "cell_type": "code",
   "execution_count": 10,
   "id": "130c83da",
   "metadata": {},
   "outputs": [],
   "source": [
    "x = [3,5,1,6,7,2,8,9,4]\n",
    "y = [5,3,2,6,8,1,7,9,4]"
   ]
  },
  {
   "cell_type": "code",
   "execution_count": 16,
   "id": "49d9d3f8",
   "metadata": {},
   "outputs": [
    {
     "name": "stdout",
     "output_type": "stream",
     "text": [
      "0.9\n"
     ]
    }
   ],
   "source": [
    "def simpleSpearman(x,y)-> float:\n",
    "    \"\"\"\n",
    "    Assuming np array as input\n",
    "    \"\"\"\n",
    "    d = x - y\n",
    "    n = len(x)\n",
    "    rho = 1 - 6 * np.sum(np.square(d))/n/(n**2-1)\n",
    "    return rho\n",
    "x0 = np.array(x)\n",
    "y0 = np.array(y)\n",
    "print(simpleSpearman(x0,y0))"
   ]
  },
  {
   "cell_type": "code",
   "execution_count": 5,
   "id": "2fc183b7",
   "metadata": {},
   "outputs": [
    {
     "data": {
      "text/plain": [
       "SpearmanrResult(correlation=-0.9, pvalue=0.0009430623223403293)"
      ]
     },
     "execution_count": 5,
     "metadata": {},
     "output_type": "execute_result"
    }
   ],
   "source": [
    "stats.spearmanr(x,y )"
   ]
  },
  {
   "cell_type": "code",
   "execution_count": 19,
   "id": "28dc1bf8",
   "metadata": {},
   "outputs": [
    {
     "name": "stdout",
     "output_type": "stream",
     "text": [
      "SpearmanrResult(correlation=-0.9, pvalue=0.0009430623223403293)\n",
      "-0.8999999999999999\n"
     ]
    }
   ],
   "source": [
    "x = [3,5,1,6,7,2,8,9,4]\n",
    "x = [(len(x)+1) - x[k] for k in range(len(x))] # Reverse the x ranking\n",
    "y = [5,3,2,6,8,1,7,9,4]\n",
    "print(stats.spearmanr(x,y ))\n",
    "x0 = np.array(x)\n",
    "y0 = np.array(y)\n",
    "print(simpleSpearman(x0,y0))"
   ]
  },
  {
   "cell_type": "code",
   "execution_count": 3,
   "id": "0027fe53",
   "metadata": {},
   "outputs": [
    {
     "data": {
      "text/plain": [
       "SpearmanrResult(correlation=-0.00876087608760876, pvalue=0.931061841564777)"
      ]
     },
     "execution_count": 3,
     "metadata": {},
     "output_type": "execute_result"
    }
   ],
   "source": [
    "rng = np.random.default_rng()\n",
    "x2n = rng.standard_normal((100, 2))\n",
    "y2n = rng.standard_normal((100, 2))\n",
    "stats.spearmanr(x2n)"
   ]
  },
  {
   "cell_type": "code",
   "execution_count": 4,
   "id": "f5194a87",
   "metadata": {},
   "outputs": [
    {
     "data": {
      "text/plain": [
       "SpearmanrResult(correlation=-0.00876087608760876, pvalue=0.931061841564777)"
      ]
     },
     "execution_count": 4,
     "metadata": {},
     "output_type": "execute_result"
    }
   ],
   "source": [
    "stats.spearmanr(x2n[:,0], x2n[:,1])"
   ]
  },
  {
   "cell_type": "code",
   "execution_count": 5,
   "id": "0c85807d",
   "metadata": {},
   "outputs": [
    {
     "name": "stdout",
     "output_type": "stream",
     "text": [
      "rho = \n",
      " [[ 1.         -0.00876088 -0.1219922  -0.0780078 ]\n",
      " [-0.00876088  1.         -0.07627963  0.20618062]\n",
      " [-0.1219922  -0.07627963  1.          0.15810381]\n",
      " [-0.0780078   0.20618062  0.15810381  1.        ]]\n",
      "pval = \n",
      " [[0.         0.93106184 0.22662196 0.44044198]\n",
      " [0.93106184 0.         0.45066551 0.0395851 ]\n",
      " [0.22662196 0.45066551 0.         0.11616891]\n",
      " [0.44044198 0.0395851  0.11616891 0.        ]]\n"
     ]
    }
   ],
   "source": [
    "rho, pval = stats.spearmanr(x2n, y2n)\n",
    "print('rho = \\n',rho)\n",
    "print('pval = \\n',pval)"
   ]
  },
  {
   "cell_type": "code",
   "execution_count": 6,
   "id": "d026d4af",
   "metadata": {},
   "outputs": [
    {
     "name": "stdout",
     "output_type": "stream",
     "text": [
      "rho = \n",
      " [[ 1.         -0.00876088 -0.1219922  -0.0780078 ]\n",
      " [-0.00876088  1.         -0.07627963  0.20618062]\n",
      " [-0.1219922  -0.07627963  1.          0.15810381]\n",
      " [-0.0780078   0.20618062  0.15810381  1.        ]]\n",
      "pval = \n",
      " [[0.         0.93106184 0.22662196 0.44044198]\n",
      " [0.93106184 0.         0.45066551 0.0395851 ]\n",
      " [0.22662196 0.45066551 0.         0.11616891]\n",
      " [0.44044198 0.0395851  0.11616891 0.        ]]\n"
     ]
    }
   ],
   "source": [
    "rho, pval = stats.spearmanr(x2n.T, y2n.T, axis=1)\n",
    "print('rho = \\n',rho)\n",
    "print('pval = \\n',pval)"
   ]
  },
  {
   "cell_type": "code",
   "execution_count": 7,
   "id": "2d5ebc5b",
   "metadata": {},
   "outputs": [
    {
     "name": "stdout",
     "output_type": "stream",
     "text": [
      "rho = \n",
      " [[ 1.         -0.00876088 -0.1219922  -0.0780078 ]\n",
      " [-0.00876088  1.         -0.07627963  0.20618062]\n",
      " [-0.1219922  -0.07627963  1.          0.15810381]\n",
      " [-0.0780078   0.20618062  0.15810381  1.        ]]\n",
      "pval = \n",
      " [[0.         0.93106184 0.22662196 0.44044198]\n",
      " [0.93106184 0.         0.45066551 0.0395851 ]\n",
      " [0.22662196 0.45066551 0.         0.11616891]\n",
      " [0.44044198 0.0395851  0.11616891 0.        ]]\n"
     ]
    }
   ],
   "source": [
    "stats.spearmanr(x2n, y2n, axis=None)\n",
    "print('rho = \\n',rho)\n",
    "print('pval = \\n',pval)"
   ]
  },
  {
   "cell_type": "code",
   "execution_count": 8,
   "id": "2119ef60",
   "metadata": {},
   "outputs": [
    {
     "name": "stdout",
     "output_type": "stream",
     "text": [
      "rho = \n",
      " [[ 1.         -0.00876088 -0.1219922  -0.0780078 ]\n",
      " [-0.00876088  1.         -0.07627963  0.20618062]\n",
      " [-0.1219922  -0.07627963  1.          0.15810381]\n",
      " [-0.0780078   0.20618062  0.15810381  1.        ]]\n",
      "pval = \n",
      " [[0.         0.93106184 0.22662196 0.44044198]\n",
      " [0.93106184 0.         0.45066551 0.0395851 ]\n",
      " [0.22662196 0.45066551 0.         0.11616891]\n",
      " [0.44044198 0.0395851  0.11616891 0.        ]]\n"
     ]
    }
   ],
   "source": [
    "stats.spearmanr(x2n.ravel(), y2n.ravel())\n",
    "print('rho = \\n',rho)\n",
    "print('pval = \\n',pval)"
   ]
  },
  {
   "cell_type": "code",
   "execution_count": 9,
   "id": "2a72db50",
   "metadata": {},
   "outputs": [
    {
     "data": {
      "text/plain": [
       "SpearmanrResult(correlation=0.06160900820178981, pvalue=0.5425753687396238)"
      ]
     },
     "execution_count": 9,
     "metadata": {},
     "output_type": "execute_result"
    }
   ],
   "source": [
    "rng = np.random.default_rng()\n",
    "xint = rng.integers(10, size=(100, 2))\n",
    "stats.spearmanr(xint)"
   ]
  },
  {
   "cell_type": "code",
   "execution_count": 12,
   "id": "0515e96e",
   "metadata": {},
   "outputs": [
    {
     "name": "stdout",
     "output_type": "stream",
     "text": [
      "0.9\n"
     ]
    }
   ],
   "source": [
    "import pandas as pd\n",
    "import numpy as np\n",
    "X=pd.Series([3,5,1,6,7,2,8,9,4])\n",
    "Y=pd.Series([5,3,2,6,8,1,7,9,4])\n",
    "rho = X.corr(Y,method='spearman')\n",
    "print(rho)\n"
   ]
  },
  {
   "cell_type": "code",
   "execution_count": null,
   "id": "3d396742",
   "metadata": {},
   "outputs": [],
   "source": []
  }
 ],
 "metadata": {
  "kernelspec": {
   "display_name": "Python 3 (ipykernel)",
   "language": "python",
   "name": "python3"
  },
  "language_info": {
   "codemirror_mode": {
    "name": "ipython",
    "version": 3
   },
   "file_extension": ".py",
   "mimetype": "text/x-python",
   "name": "python",
   "nbconvert_exporter": "python",
   "pygments_lexer": "ipython3",
   "version": "3.8.5"
  }
 },
 "nbformat": 4,
 "nbformat_minor": 5
}
