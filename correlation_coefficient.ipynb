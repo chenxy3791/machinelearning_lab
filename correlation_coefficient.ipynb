{
 "cells": [
  {
   "cell_type": "code",
   "execution_count": 1,
   "id": "45bd81bb",
   "metadata": {},
   "outputs": [],
   "source": [
    "import matplotlib.pyplot as plt\n",
    "%matplotlib inline\n",
    "import numpy as np\n",
    "from scipy import stats"
   ]
  },
  {
   "cell_type": "code",
   "execution_count": 2,
   "id": "130c83da",
   "metadata": {},
   "outputs": [
    {
     "data": {
      "text/plain": [
       "(0.8999999999999999, 0.0009430623223403325)"
      ]
     },
     "execution_count": 2,
     "metadata": {},
     "output_type": "execute_result"
    },
    {
     "data": {
      "image/png": "[encoded data removed]",
      "text/plain": [
       "<Figure size 432x288 with 1 Axes>"
      ]
     },
     "metadata": {
      "needs_background": "light"
     },
     "output_type": "display_data"
    }
   ],
   "source": [
    "# Example1\n",
    "dat1 = np.array([3,5,1,6,7,2,8,9,4])\n",
    "dat2 = np.array([5,3,2,6,8,1,7,9,4])\n",
    "fig,ax = plt.subplots()\n",
    "ax.scatter(dat1,dat2)\n",
    "stats.pearsonr(dat1,dat2)"
   ]
  },
  {
   "cell_type": "code",
   "execution_count": 11,
   "id": "0027fe53",
   "metadata": {},
   "outputs": [
    {
     "data": {
      "text/plain": [
       "(-0.15862545510551507, 0.11495455077506744)"
      ]
     },
     "execution_count": 11,
     "metadata": {},
     "output_type": "execute_result"
    },
    {
     "data": {
      "image/png": "[encoded data removed]",
      "text/plain": [
       "<Figure size 432x288 with 1 Axes>"
      ]
     },
     "metadata": {
      "needs_background": "light"
     },
     "output_type": "display_data"
    }
   ],
   "source": [
    "#Example2: Two random sequence with normal distribution\n",
    "rng = np.random.default_rng()\n",
    "x2n = rng.standard_normal((100,))\n",
    "y2n = rng.standard_normal((100,))\n",
    "fig, ax = plt.subplots()\n",
    "ax.scatter(x2n,y2n)\n",
    "ax.set_xlabel('x2n')\n",
    "ax.set_ylabel('y2n')\n",
    "stats.pearsonr(x2n, y2n)\n",
    "#stats.spearmanr(x2n, y2n)"
   ]
  },
  {
   "cell_type": "code",
   "execution_count": null,
   "id": "9b349726",
   "metadata": {},
   "outputs": [],
   "source": []
  },
  {
   "cell_type": "code",
   "execution_count": 12,
   "id": "f5194a87",
   "metadata": {},
   "outputs": [
    {
     "data": {
      "text/plain": [
       "(0.00841691124614799, 0.9337621987673613)"
      ]
     },
     "execution_count": 12,
     "metadata": {},
     "output_type": "execute_result"
    },
    {
     "data": {
      "image/png": "[encoded data removed]",
      "text/plain": [
       "<Figure size 432x288 with 1 Axes>"
      ]
     },
     "metadata": {
      "needs_background": "light"
     },
     "output_type": "display_data"
    }
   ],
   "source": [
    "#Example3\n",
    "rng = np.random.default_rng()\n",
    "x2n = rng.standard_normal((100,))\n",
    "y2n = np.array(x2n)**2\n",
    "fig, ax = plt.subplots()\n",
    "ax.scatter(x2n,y2n)\n",
    "ax.set_xlabel('x2n')\n",
    "ax.set_ylabel('y2n')\n",
    "stats.pearsonr(x2n, y2n)"
   ]
  },
  {
   "cell_type": "code",
   "execution_count": 21,
   "id": "3d396742",
   "metadata": {},
   "outputs": [
    {
     "data": {
      "text/plain": [
       "KendalltauResult(correlation=0.3888888888888889, pvalue=0.18018077601410934)"
      ]
     },
     "execution_count": 21,
     "metadata": {},
     "output_type": "execute_result"
    },
    {
     "data": {
      "image/png": "[encoded data removed]",
      "text/plain": [
       "<Figure size 432x288 with 1 Axes>"
      ]
     },
     "metadata": {
      "needs_background": "light"
     },
     "output_type": "display_data"
    }
   ],
   "source": [
    "# Example4 -- Kendall correlation coefficient\n",
    "from scipy.stats.stats import kendalltau\n",
    "\n",
    "dat1 = np.array([3,5,1,9,7,2,8,4,6])\n",
    "dat2 = np.array([5,3,2,6,8,1,7,9,4])\n",
    "fig,ax = plt.subplots()\n",
    "ax.scatter(dat1,dat2)\n",
    "kendalltau(dat1,dat2)"
   ]
  },
  {
   "cell_type": "code",
   "execution_count": 27,
   "id": "b2d41ea6",
   "metadata": {},
   "outputs": [
    {
     "name": "stdout",
     "output_type": "stream",
     "text": [
      "tau_a = 0.6111111111111112\n"
     ]
    }
   ],
   "source": [
    "# Tau_a\n",
    "dat1 = np.array([3,5,1,6,7,2,8,8,4])\n",
    "dat2 = np.array([5,3,2,6,8,1,7,8,4])\n",
    "c = 0\n",
    "d = 0\n",
    "for i in range(len(dat1)):\n",
    "    for j in range(i+1,len(dat1)):\n",
    "        if (dat1[i]-dat1[j])*(dat2[i]-dat2[j])>0:\n",
    "            c = c + 1\n",
    "        else:\n",
    "            d = d + 1\n",
    "tau_a = (c - d) * 2 / len(dat1)/(len(dat1)-1)\n",
    "            \n",
    "print('tau_a = {0}'.format(tau_a))            \n"
   ]
  },
  {
   "cell_type": "code",
   "execution_count": 28,
   "id": "4cab1e40",
   "metadata": {},
   "outputs": [
    {
     "name": "stdout",
     "output_type": "stream",
     "text": [
      "tau_b = 0.6857142857142857\n",
      "kendalltau(dat1,dat2) =  KendalltauResult(correlation=0.6857142857142857, pvalue=0.011424737055271894)\n"
     ]
    }
   ],
   "source": [
    "# Tau_b\n",
    "from scipy.stats.stats import kendalltau\n",
    "\n",
    "dat1 = np.array([3,5,1,6,7,2,8,8,4])\n",
    "dat2 = np.array([5,3,2,6,8,1,7,8,4])\n",
    "#dat1 = np.array([3,5,1,9,7,2,8,4,6])\n",
    "#dat2 = np.array([5,3,2,6,8,1,7,9,4])\n",
    "c = 0\n",
    "d = 0\n",
    "t_x = 0\n",
    "t_y = 0\n",
    "for i in range(len(dat1)):\n",
    "    for j in range(i+1,len(dat1)):\n",
    "        if (dat1[i]-dat1[j])*(dat2[i]-dat2[j])>0:\n",
    "            c = c + 1\n",
    "        elif (dat1[i]-dat1[j])*(dat2[i]-dat2[j])<0:\n",
    "            d = d + 1\n",
    "        else:\n",
    "            if (dat1[i]-dat1[j])==0 and (dat2[i]-dat2[j])!=0:\n",
    "                t_x = t_x + 1\n",
    "            elif (dat1[i]-dat1[j])!=0 and (dat2[i]-dat2[j])==0:\n",
    "                t_y = t_y + 1\n",
    "                \n",
    "tau_b = (c - d) / np.sqrt((c+d+t_x)*(c+d+t_y))\n",
    "            \n",
    "print('tau_b = {0}'.format(tau_b))            \n",
    "print('kendalltau(dat1,dat2) =  {0}'.format(kendalltau(dat1,dat2)))"
   ]
  },
  {
   "cell_type": "code",
   "execution_count": null,
   "id": "a37f7aaf",
   "metadata": {},
   "outputs": [],
   "source": []
  }
 ],
 "metadata": {
  "kernelspec": {
   "display_name": "Python 3 (ipykernel)",
   "language": "python",
   "name": "python3"
  },
  "language_info": {
   "codemirror_mode": {
    "name": "ipython",
    "version": 3
   },
   "file_extension": ".py",
   "mimetype": "text/x-python",
   "name": "python",
   "nbconvert_exporter": "python",
   "pygments_lexer": "ipython3",
   "version": "3.8.5"
  }
 },
 "nbformat": 4,
 "nbformat_minor": 5
}
