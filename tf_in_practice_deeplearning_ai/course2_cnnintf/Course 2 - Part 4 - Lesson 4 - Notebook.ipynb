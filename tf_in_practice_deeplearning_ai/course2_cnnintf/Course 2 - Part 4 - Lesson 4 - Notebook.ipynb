{
 "cells": [
  {
   "cell_type": "code",
   "execution_count": 1,
   "metadata": {},
   "outputs": [],
   "source": [
    "import os\n",
    "import zipfile"
   ]
  },
  {
   "cell_type": "code",
   "execution_count": 2,
   "metadata": {
    "colab": {},
    "colab_type": "code",
    "id": "RXZT2UsyIVe_"
   },
   "outputs": [],
   "source": [
    "#!wget --no-check-certificate \\\n",
    "#    https://storage.googleapis.com/laurencemoroney-blog.appspot.com/horse-or-human.zip \\\n",
    "#    -O /tmp/horse-or-human.zip\n",
    "\n",
    "#!wget --no-check-certificate \\\n",
    "#    https://storage.googleapis.com/laurencemoroney-blog.appspot.com/validation-horse-or-human.zip \\\n",
    "#    -O /tmp/validation-horse-or-human.zip\n",
    "  \n",
    "imgdir = 'F:/coursera/TensorflowInPractice/images'\n",
    "local_zip = imgdir + '/horse-or-human.zip'\n",
    "zip_ref = zipfile.ZipFile(local_zip, 'r')\n",
    "zip_ref.extractall('/tmp/horse-or-human')\n",
    "local_zip = imgdir + '/validation-horse-or-human.zip'\n",
    "zip_ref = zipfile.ZipFile(local_zip, 'r')\n",
    "zip_ref.extractall('/tmp/validation-horse-or-human')\n",
    "zip_ref.close()\n",
    "# Directory with our training horse pictures\n",
    "train_horse_dir = os.path.join('/tmp/horse-or-human/horses')\n",
    "\n",
    "# Directory with our training human pictures\n",
    "train_human_dir = os.path.join('/tmp/horse-or-human/humans')\n",
    "\n",
    "# Directory with our training horse pictures\n",
    "validation_horse_dir = os.path.join('/tmp/validation-horse-or-human/horses')\n",
    "\n",
    "# Directory with our training human pictures\n",
    "validation_human_dir = os.path.join('/tmp/validation-horse-or-human/humans')"
   ]
  },
  {
   "cell_type": "markdown",
   "metadata": {
    "colab_type": "text",
    "id": "5oqBkNBJmtUv"
   },
   "source": [
    "## Building a Small Model from Scratch\n",
    "\n",
    "But before we continue, let's start defining the model:\n",
    "\n",
    "Step 1 will be to import tensorflow."
   ]
  },
  {
   "cell_type": "code",
   "execution_count": 3,
   "metadata": {
    "colab": {},
    "colab_type": "code",
    "id": "qvfZg3LQbD-5"
   },
   "outputs": [
    {
     "name": "stderr",
     "output_type": "stream",
     "text": [
      "C:\\Users\\chenxy\\AppData\\Local\\Continuum\\anaconda3\\lib\\site-packages\\h5py\\__init__.py:36: FutureWarning: Conversion of the second argument of issubdtype from `float` to `np.floating` is deprecated. In future, it will be treated as `np.float64 == np.dtype(float).type`.\n",
      "  from ._conv import register_converters as _register_converters\n"
     ]
    }
   ],
   "source": [
    "import tensorflow as tf"
   ]
  },
  {
   "cell_type": "markdown",
   "metadata": {
    "colab_type": "text",
    "id": "BnhYCP4tdqjC"
   },
   "source": [
    "We then add convolutional layers as in the previous example, and flatten the final result to feed into the densely connected layers."
   ]
  },
  {
   "cell_type": "markdown",
   "metadata": {
    "colab_type": "text",
    "id": "gokG5HKpdtzm"
   },
   "source": [
    "Finally we add the densely connected layers. \n",
    "\n",
    "Note that because we are facing a two-class classification problem, i.e. a *binary classification problem*, we will end our network with a [*sigmoid* activation](https://wikipedia.org/wiki/Sigmoid_function), so that the output of our network will be a single scalar between 0 and 1, encoding the probability that the current image is class 1 (as opposed to class 0)."
   ]
  },
  {
   "cell_type": "code",
   "execution_count": 4,
   "metadata": {
    "colab": {},
    "colab_type": "code",
    "id": "PixZ2s5QbYQ3"
   },
   "outputs": [],
   "source": [
    "model = tf.keras.models.Sequential([\n",
    "    # Note the input shape is the desired size of the image 300x300 with 3 bytes color\n",
    "    # This is the first convolution\n",
    "    tf.keras.layers.Conv2D(16, (3,3), activation='relu', input_shape=(300, 300, 3)),\n",
    "    tf.keras.layers.MaxPooling2D(2, 2),\n",
    "    # The second convolution\n",
    "    tf.keras.layers.Conv2D(32, (3,3), activation='relu'),\n",
    "    tf.keras.layers.MaxPooling2D(2,2),\n",
    "    # The third convolution\n",
    "    tf.keras.layers.Conv2D(64, (3,3), activation='relu'),\n",
    "    tf.keras.layers.MaxPooling2D(2,2),\n",
    "    # The fourth convolution\n",
    "    tf.keras.layers.Conv2D(64, (3,3), activation='relu'),\n",
    "    tf.keras.layers.MaxPooling2D(2,2),\n",
    "    # The fifth convolution\n",
    "    tf.keras.layers.Conv2D(64, (3,3), activation='relu'),\n",
    "    tf.keras.layers.MaxPooling2D(2,2),\n",
    "    # Flatten the results to feed into a DNN\n",
    "    tf.keras.layers.Flatten(),\n",
    "    # 512 neuron hidden layer\n",
    "    tf.keras.layers.Dense(512, activation='relu'),\n",
    "    # Only 1 output neuron. It will contain a value from 0-1 where 0 for 1 class ('horses') and 1 for the other ('humans')\n",
    "    tf.keras.layers.Dense(1, activation='sigmoid')\n",
    "])"
   ]
  },
  {
   "cell_type": "code",
   "execution_count": 5,
   "metadata": {
    "colab": {},
    "colab_type": "code",
    "id": "8DHWhFP_uhq3"
   },
   "outputs": [],
   "source": [
    "from tensorflow.keras.optimizers import RMSprop\n",
    "\n",
    "model.compile(loss='binary_crossentropy',\n",
    "              optimizer=RMSprop(lr=1e-4),\n",
    "              metrics=['acc'])"
   ]
  },
  {
   "cell_type": "code",
   "execution_count": 6,
   "metadata": {
    "colab": {},
    "colab_type": "code",
    "id": "ClebU9NJg99G"
   },
   "outputs": [
    {
     "name": "stdout",
     "output_type": "stream",
     "text": [
      "Found 1027 images belonging to 2 classes.\n",
      "Found 256 images belonging to 2 classes.\n"
     ]
    }
   ],
   "source": [
    "from tensorflow.keras.preprocessing.image import ImageDataGenerator\n",
    "\n",
    "# All images will be rescaled by 1./255\n",
    "train_datagen = ImageDataGenerator(\n",
    "      rescale=1./255,\n",
    "      rotation_range=40,\n",
    "      width_shift_range=0.2,\n",
    "      height_shift_range=0.2,\n",
    "      shear_range=0.2,\n",
    "      zoom_range=0.2,\n",
    "      horizontal_flip=True,\n",
    "      fill_mode='nearest')\n",
    "\n",
    "validation_datagen = ImageDataGenerator(rescale=1/255)\n",
    "\n",
    "# Flow training images in batches of 128 using train_datagen generator\n",
    "train_generator = train_datagen.flow_from_directory(\n",
    "        '/tmp/horse-or-human/',  # This is the source directory for training images\n",
    "        target_size=(300, 300),  # All images will be resized to 150x150\n",
    "        batch_size=128,\n",
    "        # Since we use binary_crossentropy loss, we need binary labels\n",
    "        class_mode='binary')\n",
    "\n",
    "# Flow training images in batches of 128 using train_datagen generator\n",
    "validation_generator = validation_datagen.flow_from_directory(\n",
    "        '/tmp/validation-horse-or-human/',  # This is the source directory for training images\n",
    "        target_size=(300, 300),  # All images will be resized to 150x150\n",
    "        batch_size=32,\n",
    "        # Since we use binary_crossentropy loss, we need binary labels\n",
    "        class_mode='binary')"
   ]
  },
  {
   "cell_type": "code",
   "execution_count": 7,
   "metadata": {
    "colab": {},
    "colab_type": "code",
    "id": "Fb1_lgobv81m"
   },
   "outputs": [
    {
     "name": "stdout",
     "output_type": "stream",
     "text": [
      "Epoch 1/100\n",
      "8/8 [==============================] - 45s 6s/step - loss: 0.7089 - acc: 0.4750 - val_loss: 0.6669 - val_acc: 0.8828\n",
      "Epoch 2/100\n",
      "8/8 [==============================] - 43s 5s/step - loss: 0.6784 - acc: 0.6274 - val_loss: 0.6812 - val_acc: 0.5000\n",
      "Epoch 3/100\n",
      "8/8 [==============================] - 48s 6s/step - loss: 0.6730 - acc: 0.5596 - val_loss: 0.6359 - val_acc: 0.5312\n",
      "Epoch 4/100\n",
      "8/8 [==============================] - 39s 5s/step - loss: 0.6551 - acc: 0.6344 - val_loss: 0.6849 - val_acc: 0.5000\n",
      "Epoch 5/100\n",
      "8/8 [==============================] - 43s 5s/step - loss: 0.6237 - acc: 0.6652 - val_loss: 0.5533 - val_acc: 0.7109\n",
      "Epoch 6/100\n",
      "8/8 [==============================] - 43s 5s/step - loss: 0.5967 - acc: 0.6841 - val_loss: 0.6321 - val_acc: 0.5352\n",
      "Epoch 7/100\n",
      "8/8 [==============================] - 42s 5s/step - loss: 0.5778 - acc: 0.7253 - val_loss: 0.5150 - val_acc: 0.7031\n",
      "Epoch 8/100\n",
      "8/8 [==============================] - 48s 6s/step - loss: 0.5355 - acc: 0.7314 - val_loss: 0.7329 - val_acc: 0.5391\n",
      "Epoch 9/100\n",
      "8/8 [==============================] - 42s 5s/step - loss: 0.5203 - acc: 0.7152 - val_loss: 0.4507 - val_acc: 0.7734\n",
      "Epoch 10/100\n",
      "8/8 [==============================] - 43s 5s/step - loss: 0.4835 - acc: 0.7642 - val_loss: 0.8443 - val_acc: 0.5391\n",
      "Epoch 11/100\n",
      "8/8 [==============================] - 47s 6s/step - loss: 0.5072 - acc: 0.7373 - val_loss: 0.6898 - val_acc: 0.5977\n",
      "Epoch 12/100\n",
      "8/8 [==============================] - 38s 5s/step - loss: 0.5436 - acc: 0.7106 - val_loss: 0.5392 - val_acc: 0.6953\n",
      "Epoch 13/100\n",
      "8/8 [==============================] - 47s 6s/step - loss: 0.4786 - acc: 0.7900 - val_loss: 0.7386 - val_acc: 0.6328\n",
      "Epoch 14/100\n",
      "8/8 [==============================] - 42s 5s/step - loss: 0.5189 - acc: 0.7642 - val_loss: 0.8525 - val_acc: 0.5938\n",
      "Epoch 15/100\n",
      "8/8 [==============================] - 43s 5s/step - loss: 0.4091 - acc: 0.7953 - val_loss: 0.7584 - val_acc: 0.6289\n",
      "Epoch 16/100\n",
      "8/8 [==============================] - 42s 5s/step - loss: 0.4370 - acc: 0.8031 - val_loss: 0.9234 - val_acc: 0.6016\n",
      "Epoch 17/100\n",
      "8/8 [==============================] - 42s 5s/step - loss: 0.4642 - acc: 0.7742 - val_loss: 0.9035 - val_acc: 0.6172\n",
      "Epoch 18/100\n",
      "8/8 [==============================] - 42s 5s/step - loss: 0.4462 - acc: 0.8120 - val_loss: 1.9489 - val_acc: 0.5000\n",
      "Epoch 19/100\n",
      "8/8 [==============================] - 42s 5s/step - loss: 0.4956 - acc: 0.7430 - val_loss: 1.0412 - val_acc: 0.5938\n",
      "Epoch 20/100\n",
      "8/8 [==============================] - 47s 6s/step - loss: 0.3836 - acc: 0.8379 - val_loss: 1.2987 - val_acc: 0.5781\n",
      "Epoch 21/100\n",
      "8/8 [==============================] - 37s 5s/step - loss: 0.4750 - acc: 0.7532 - val_loss: 1.0700 - val_acc: 0.5898\n",
      "Epoch 22/100\n",
      "8/8 [==============================] - 49s 6s/step - loss: 0.3941 - acc: 0.8252 - val_loss: 0.8526 - val_acc: 0.6797\n",
      "Epoch 23/100\n",
      "8/8 [==============================] - 38s 5s/step - loss: 0.4187 - acc: 0.8127 - val_loss: 2.2306 - val_acc: 0.5000\n",
      "Epoch 24/100\n",
      "8/8 [==============================] - 43s 5s/step - loss: 0.4590 - acc: 0.7653 - val_loss: 1.1001 - val_acc: 0.5938\n",
      "Epoch 25/100\n",
      "8/8 [==============================] - 48s 6s/step - loss: 0.3490 - acc: 0.8467 - val_loss: 1.2646 - val_acc: 0.5898\n",
      "Epoch 26/100\n",
      "8/8 [==============================] - 44s 5s/step - loss: 0.3284 - acc: 0.8420 - val_loss: 1.9760 - val_acc: 0.5273\n",
      "Epoch 27/100\n",
      "8/8 [==============================] - 44s 6s/step - loss: 0.4258 - acc: 0.7909 - val_loss: 1.1927 - val_acc: 0.6133\n",
      "Epoch 28/100\n",
      "8/8 [==============================] - 42s 5s/step - loss: 0.4069 - acc: 0.8242 - val_loss: 1.3502 - val_acc: 0.5742\n",
      "Epoch 29/100\n",
      "8/8 [==============================] - 43s 5s/step - loss: 0.3118 - acc: 0.8810 - val_loss: 1.4731 - val_acc: 0.5977\n",
      "Epoch 30/100\n",
      "8/8 [==============================] - 43s 5s/step - loss: 0.3900 - acc: 0.8131 - val_loss: 1.3882 - val_acc: 0.5859\n",
      "Epoch 31/100\n",
      "8/8 [==============================] - 48s 6s/step - loss: 0.3534 - acc: 0.8535 - val_loss: 1.8827 - val_acc: 0.5273\n",
      "Epoch 32/100\n",
      "8/8 [==============================] - 38s 5s/step - loss: 0.3920 - acc: 0.8243 - val_loss: 1.9565 - val_acc: 0.5352\n",
      "Epoch 33/100\n",
      "8/8 [==============================] - 48s 6s/step - loss: 0.3167 - acc: 0.8613 - val_loss: 1.9612 - val_acc: 0.5469\n",
      "Epoch 34/100\n",
      "8/8 [==============================] - 42s 5s/step - loss: 0.3421 - acc: 0.8554 - val_loss: 1.6383 - val_acc: 0.5625\n",
      "Epoch 35/100\n",
      "8/8 [==============================] - 42s 5s/step - loss: 0.2881 - acc: 0.8532 - val_loss: 1.6374 - val_acc: 0.5938\n",
      "Epoch 36/100\n",
      "8/8 [==============================] - 42s 5s/step - loss: 0.3309 - acc: 0.8454 - val_loss: 1.6466 - val_acc: 0.5703\n",
      "Epoch 37/100\n",
      "8/8 [==============================] - 47s 6s/step - loss: 0.2668 - acc: 0.8926 - val_loss: 2.4155 - val_acc: 0.5312\n",
      "Epoch 38/100\n",
      "8/8 [==============================] - 47s 6s/step - loss: 0.4976 - acc: 0.8398 - val_loss: 1.6360 - val_acc: 0.6016\n",
      "Epoch 39/100\n",
      "8/8 [==============================] - 44s 6s/step - loss: 0.2367 - acc: 0.8988 - val_loss: 1.8441 - val_acc: 0.5781\n",
      "Epoch 40/100\n",
      "8/8 [==============================] - 44s 6s/step - loss: 0.3157 - acc: 0.8765 - val_loss: 1.8116 - val_acc: 0.5859\n",
      "Epoch 41/100\n",
      "8/8 [==============================] - 44s 5s/step - loss: 0.2277 - acc: 0.8999 - val_loss: 1.9173 - val_acc: 0.5781\n",
      "Epoch 42/100\n",
      "8/8 [==============================] - 42s 5s/step - loss: 0.2942 - acc: 0.8532 - val_loss: 1.9740 - val_acc: 0.5664\n",
      "Epoch 43/100\n",
      "8/8 [==============================] - 43s 5s/step - loss: 0.2679 - acc: 0.8710 - val_loss: 1.6709 - val_acc: 0.5859\n",
      "Epoch 44/100\n",
      "8/8 [==============================] - 42s 5s/step - loss: 0.2060 - acc: 0.9110 - val_loss: 2.4155 - val_acc: 0.5430\n",
      "Epoch 45/100\n",
      "8/8 [==============================] - 42s 5s/step - loss: 0.3353 - acc: 0.8476 - val_loss: 1.6771 - val_acc: 0.5898\n",
      "Epoch 46/100\n",
      "8/8 [==============================] - 42s 5s/step - loss: 0.2187 - acc: 0.9155 - val_loss: 2.0350 - val_acc: 0.5820\n",
      "Epoch 47/100\n",
      "8/8 [==============================] - 43s 5s/step - loss: 0.2896 - acc: 0.8821 - val_loss: 1.5522 - val_acc: 0.6133\n",
      "Epoch 48/100\n",
      "8/8 [==============================] - 48s 6s/step - loss: 0.2357 - acc: 0.9033 - val_loss: 1.6141 - val_acc: 0.6133\n",
      "Epoch 49/100\n",
      "8/8 [==============================] - 38s 5s/step - loss: 0.3155 - acc: 0.9057 - val_loss: 1.7896 - val_acc: 0.5898\n",
      "Epoch 50/100\n",
      "8/8 [==============================] - 47s 6s/step - loss: 0.1977 - acc: 0.9316 - val_loss: 2.0704 - val_acc: 0.5664\n",
      "Epoch 51/100\n",
      "8/8 [==============================] - 37s 5s/step - loss: 0.2033 - acc: 0.8902 - val_loss: 1.4265 - val_acc: 0.6445\n",
      "Epoch 52/100\n",
      "8/8 [==============================] - 48s 6s/step - loss: 0.2079 - acc: 0.9082 - val_loss: 2.3458 - val_acc: 0.5469\n",
      "Epoch 53/100\n",
      "8/8 [==============================] - 44s 6s/step - loss: 0.3183 - acc: 0.8910 - val_loss: 1.4182 - val_acc: 0.6016\n",
      "Epoch 54/100\n",
      "8/8 [==============================] - 44s 5s/step - loss: 0.1974 - acc: 0.9255 - val_loss: 2.3773 - val_acc: 0.5469\n",
      "Epoch 55/100\n",
      "8/8 [==============================] - 42s 5s/step - loss: 0.1721 - acc: 0.9321 - val_loss: 1.5877 - val_acc: 0.6602\n",
      "Epoch 56/100\n",
      "8/8 [==============================] - 44s 6s/step - loss: 0.1827 - acc: 0.9221 - val_loss: 1.3782 - val_acc: 0.6953\n",
      "Epoch 57/100\n",
      "8/8 [==============================] - 43s 5s/step - loss: 0.1980 - acc: 0.9143 - val_loss: 1.5219 - val_acc: 0.6719\n",
      "Epoch 58/100\n",
      "8/8 [==============================] - 49s 6s/step - loss: 0.2307 - acc: 0.9023 - val_loss: 2.0064 - val_acc: 0.6328\n",
      "Epoch 59/100\n",
      "8/8 [==============================] - 44s 5s/step - loss: 0.1958 - acc: 0.9221 - val_loss: 2.2387 - val_acc: 0.5859\n",
      "Epoch 60/100\n",
      "8/8 [==============================] - 43s 5s/step - loss: 0.1616 - acc: 0.9410 - val_loss: 2.4919 - val_acc: 0.5625\n",
      "Epoch 61/100\n",
      "8/8 [==============================] - 44s 6s/step - loss: 0.2801 - acc: 0.8788 - val_loss: 1.6601 - val_acc: 0.6250\n",
      "Epoch 62/100\n",
      "8/8 [==============================] - 44s 6s/step - loss: 0.2212 - acc: 0.9132 - val_loss: 1.8536 - val_acc: 0.6094\n",
      "Epoch 63/100\n",
      "8/8 [==============================] - 45s 6s/step - loss: 0.1396 - acc: 0.9433 - val_loss: 2.3669 - val_acc: 0.6016\n",
      "Epoch 64/100\n"
     ]
    },
    {
     "name": "stdout",
     "output_type": "stream",
     "text": [
      "8/8 [==============================] - 43s 5s/step - loss: 0.1588 - acc: 0.9355 - val_loss: 2.5150 - val_acc: 0.5703\n",
      "Epoch 65/100\n",
      "8/8 [==============================] - 48s 6s/step - loss: 0.2184 - acc: 0.9170 - val_loss: 1.8793 - val_acc: 0.6367\n",
      "Epoch 66/100\n",
      "8/8 [==============================] - 40s 5s/step - loss: 0.1836 - acc: 0.9109 - val_loss: 1.8702 - val_acc: 0.6367\n",
      "Epoch 67/100\n",
      "8/8 [==============================] - 48s 6s/step - loss: 0.1759 - acc: 0.9414 - val_loss: 1.0373 - val_acc: 0.7305\n",
      "Epoch 68/100\n",
      "8/8 [==============================] - 44s 6s/step - loss: 0.1938 - acc: 0.9299 - val_loss: 2.4672 - val_acc: 0.5781\n",
      "Epoch 69/100\n",
      "8/8 [==============================] - 43s 5s/step - loss: 0.1716 - acc: 0.9255 - val_loss: 1.6414 - val_acc: 0.6719\n",
      "Epoch 70/100\n",
      "8/8 [==============================] - 40s 5s/step - loss: 0.1528 - acc: 0.9225 - val_loss: 3.5503 - val_acc: 0.5117\n",
      "Epoch 71/100\n",
      "8/8 [==============================] - 49s 6s/step - loss: 0.1762 - acc: 0.9297 - val_loss: 1.6903 - val_acc: 0.6641\n",
      "Epoch 72/100\n",
      "8/8 [==============================] - 43s 5s/step - loss: 0.1341 - acc: 0.9444 - val_loss: 1.4317 - val_acc: 0.7109\n",
      "Epoch 73/100\n",
      "8/8 [==============================] - 43s 5s/step - loss: 0.2230 - acc: 0.9010 - val_loss: 1.9031 - val_acc: 0.6602\n",
      "Epoch 74/100\n",
      "8/8 [==============================] - 44s 5s/step - loss: 0.2036 - acc: 0.9232 - val_loss: 2.0259 - val_acc: 0.6328\n",
      "Epoch 75/100\n",
      "8/8 [==============================] - 49s 6s/step - loss: 0.1393 - acc: 0.9463 - val_loss: 1.5429 - val_acc: 0.6914\n",
      "Epoch 76/100\n",
      "8/8 [==============================] - 44s 5s/step - loss: 0.1398 - acc: 0.9321 - val_loss: 2.1972 - val_acc: 0.6289\n",
      "Epoch 77/100\n",
      "8/8 [==============================] - 40s 5s/step - loss: 0.1742 - acc: 0.9160 - val_loss: 1.4561 - val_acc: 0.6875\n",
      "Epoch 78/100\n",
      "8/8 [==============================] - 44s 5s/step - loss: 0.1721 - acc: 0.9232 - val_loss: 1.7024 - val_acc: 0.6719\n",
      "Epoch 79/100\n",
      "8/8 [==============================] - 48s 6s/step - loss: 0.1278 - acc: 0.9580 - val_loss: 2.9115 - val_acc: 0.5625\n",
      "Epoch 80/100\n",
      "8/8 [==============================] - 38s 5s/step - loss: 0.1761 - acc: 0.9264 - val_loss: 1.4590 - val_acc: 0.7148\n",
      "Epoch 81/100\n",
      "8/8 [==============================] - 51s 6s/step - loss: 0.1257 - acc: 0.9600 - val_loss: 1.9858 - val_acc: 0.6562\n",
      "Epoch 82/100\n",
      "8/8 [==============================] - 43s 5s/step - loss: 0.2484 - acc: 0.9177 - val_loss: 1.7143 - val_acc: 0.6797\n",
      "Epoch 83/100\n",
      "8/8 [==============================] - 48s 6s/step - loss: 0.1319 - acc: 0.9463 - val_loss: 2.0220 - val_acc: 0.6562\n",
      "Epoch 84/100\n",
      "8/8 [==============================] - 40s 5s/step - loss: 0.1550 - acc: 0.9406 - val_loss: 3.1047 - val_acc: 0.6094\n",
      "Epoch 85/100\n",
      "8/8 [==============================] - 49s 6s/step - loss: 0.1180 - acc: 0.9600 - val_loss: 1.9859 - val_acc: 0.6602\n",
      "Epoch 86/100\n",
      "8/8 [==============================] - 38s 5s/step - loss: 0.1353 - acc: 0.9419 - val_loss: 5.3049 - val_acc: 0.5000\n",
      "Epoch 87/100\n",
      "8/8 [==============================] - 49s 6s/step - loss: 0.2053 - acc: 0.9170 - val_loss: 2.0527 - val_acc: 0.6641\n",
      "Epoch 88/100\n",
      "8/8 [==============================] - 37s 5s/step - loss: 0.1414 - acc: 0.9599 - val_loss: 4.3106 - val_acc: 0.5117\n",
      "Epoch 89/100\n",
      "8/8 [==============================] - 48s 6s/step - loss: 0.1297 - acc: 0.9502 - val_loss: 2.1992 - val_acc: 0.6602\n",
      "Epoch 90/100\n",
      "8/8 [==============================] - 42s 5s/step - loss: 0.1321 - acc: 0.9499 - val_loss: 3.1509 - val_acc: 0.5625\n",
      "Epoch 91/100\n",
      "8/8 [==============================] - 43s 5s/step - loss: 0.1129 - acc: 0.9577 - val_loss: 2.3504 - val_acc: 0.6367\n",
      "Epoch 92/100\n",
      "8/8 [==============================] - 43s 5s/step - loss: 0.1187 - acc: 0.9399 - val_loss: 2.6043 - val_acc: 0.6289\n",
      "Epoch 93/100\n",
      "8/8 [==============================] - 48s 6s/step - loss: 0.1387 - acc: 0.9492 - val_loss: 2.3488 - val_acc: 0.6250\n",
      "Epoch 94/100\n",
      "8/8 [==============================] - 38s 5s/step - loss: 0.1316 - acc: 0.9457 - val_loss: 1.7793 - val_acc: 0.6758\n",
      "Epoch 95/100\n",
      "8/8 [==============================] - 43s 5s/step - loss: 0.1362 - acc: 0.9377 - val_loss: 1.9865 - val_acc: 0.6641\n",
      "Epoch 96/100\n",
      "8/8 [==============================] - 48s 6s/step - loss: 0.1086 - acc: 0.9629 - val_loss: 2.5065 - val_acc: 0.6445\n",
      "Epoch 97/100\n",
      "8/8 [==============================] - 44s 5s/step - loss: 0.1258 - acc: 0.9433 - val_loss: 1.2737 - val_acc: 0.7266\n",
      "Epoch 98/100\n",
      "8/8 [==============================] - 44s 5s/step - loss: 0.1174 - acc: 0.9511 - val_loss: 2.3546 - val_acc: 0.6289\n",
      "Epoch 99/100\n",
      "8/8 [==============================] - 43s 5s/step - loss: 0.0727 - acc: 0.9766 - val_loss: 2.9803 - val_acc: 0.6055\n",
      "Epoch 100/100\n",
      "8/8 [==============================] - 42s 5s/step - loss: 0.1451 - acc: 0.9477 - val_loss: 2.1963 - val_acc: 0.6562\n"
     ]
    }
   ],
   "source": [
    "history = model.fit_generator(\n",
    "      train_generator,\n",
    "      steps_per_epoch=8,  \n",
    "      epochs=100,\n",
    "      verbose=1,\n",
    "      validation_data = validation_generator,\n",
    "      validation_steps=8)"
   ]
  },
  {
   "cell_type": "code",
   "execution_count": 9,
   "metadata": {
    "colab": {},
    "colab_type": "code",
    "id": "7zNPRWOVJdOH"
   },
   "outputs": [
    {
     "data": {
      "image/png": "[encoded data removed]",
      "text/plain": [
       "<Figure size 432x288 with 1 Axes>"
      ]
     },
     "metadata": {},
     "output_type": "display_data"
    },
    {
     "data": {
      "image/png": "[encoded data removed]",
      "text/plain": [
       "<Figure size 432x288 with 1 Axes>"
      ]
     },
     "metadata": {},
     "output_type": "display_data"
    }
   ],
   "source": [
    "import matplotlib.pyplot as plt\n",
    "acc = history.history['acc']\n",
    "val_acc = history.history['val_acc']\n",
    "loss = history.history['loss']\n",
    "val_loss = history.history['val_loss']\n",
    "\n",
    "epochs = range(len(acc))\n",
    "\n",
    "plt.plot(epochs, acc, 'r', label='Training accuracy')\n",
    "plt.plot(epochs, val_acc, 'b', label='Validation accuracy')\n",
    "plt.title('Training and validation accuracy')\n",
    "\n",
    "plt.figure()\n",
    "\n",
    "plt.plot(epochs, loss, 'r', label='Training Loss')\n",
    "plt.plot(epochs, val_loss, 'b', label='Validation Loss')\n",
    "plt.title('Training and validation loss')\n",
    "plt.legend()\n",
    "\n",
    "plt.show()"
   ]
  },
  {
   "cell_type": "code",
   "execution_count": null,
   "metadata": {},
   "outputs": [],
   "source": []
  }
 ],
 "metadata": {
  "accelerator": "GPU",
  "colab": {
   "collapsed_sections": [],
   "name": "Horse-or-Human-WithAugmentation.ipynb",
   "provenance": [],
   "toc_visible": true,
   "version": "0.3.2"
  },
  "kernelspec": {
   "display_name": "Python 3",
   "language": "python",
   "name": "python3"
  },
  "language_info": {
   "codemirror_mode": {
    "name": "ipython",
    "version": 3
   },
   "file_extension": ".py",
   "mimetype": "text/x-python",
   "name": "python",
   "nbconvert_exporter": "python",
   "pygments_lexer": "ipython3",
   "version": "3.6.5"
  }
 },
 "nbformat": 4,
 "nbformat_minor": 1
}
