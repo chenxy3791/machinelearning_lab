{
 "cells": [
  {
   "cell_type": "markdown",
   "id": "995aed52",
   "metadata": {},
   "source": [
    "# How to Generate Test Datasets in Python with scikit-learn\n",
    "\n",
    "Ref: https://machinelearningmastery.com/generate-test-datasets-python-scikit-learn/\n"
   ]
  },
  {
   "cell_type": "markdown",
   "id": "fcca6096",
   "metadata": {},
   "source": [
    "Test datasets are small contrived datasets that let you test a machine learning algorithm or test harness.\n",
    "\n",
    "The data from test datasets have well-defined properties, such as linearly or non-linearity, that allow you to explore specific algorithm behavior. The scikit-learn Python library provides a suite of functions for generating samples from configurable test problems for regression and classification.\n",
    "\n",
    "In this tutorial, you will discover test problems and how to use them in Python with scikit-learn.\n",
    "\n",
    "After completing this tutorial, you will know:\n",
    "\n",
    "How to generate multi-class classification prediction test problems.\n",
    "How to generate binary classification prediction test problems.\n",
    "How to generate linear regression prediction test problems."
   ]
  },
  {
   "cell_type": "markdown",
   "id": "9168c60d",
   "metadata": {},
   "source": [
    "## Tutorial Overview\n",
    "This tutorial is divided into 3 parts; they are:\n",
    "\n",
    ". Test Datasets \n",
    "\n",
    ". Classification Test Problems \n",
    "\n",
    ". Regression Test Problems"
   ]
  },
  {
   "cell_type": "markdown",
   "id": "cb4a77e5",
   "metadata": {},
   "source": [
    "## Test Datasets\n",
    "A problem when developing and implementing machine learning algorithms is how do you know whether you have implemented them correctly. They seem to work even with bugs.\n",
    "\n",
    "Test datasets are small contrived problems that allow you to test and debug your algorithms and test harness. They are also useful for better understanding the behavior of algorithms in response to changes in hyperparameters.\n",
    "\n",
    "Below are some desirable properties of test datasets:\n",
    "\n",
    "(1) They can be generated quickly and easily.\n",
    "\n",
    "(2) They contain “known” or “understood” outcomes for comparison with predictions.\n",
    "\n",
    "(3) They are stochastic, allowing random variations on the same problem each time they are generated.\n",
    "\n",
    "(4) They are small and easily visualized in two dimensions.\n",
    "\n",
    "(5) They can be scaled up trivially.\n",
    "\n",
    "I recommend using test datasets when getting started with a new machine learning algorithm or when developing a new test harness.\n",
    "\n",
    "scikit-learn is a Python library for machine learning that provides functions for generating a suite of test problems.\n",
    "\n",
    "In this tutorial, we will look at some examples of generating test problems for classification and regression algorithms."
   ]
  },
  {
   "cell_type": "markdown",
   "id": "04d44392",
   "metadata": {},
   "source": [
    "## Classification Test Problems\n",
    "Classification is the problem of assigning labels to observations.\n",
    "\n",
    "In this section, we will look at three classification problems: blobs, moons and circles."
   ]
  },
  {
   "cell_type": "markdown",
   "id": "4bda892a",
   "metadata": {},
   "source": [
    "### Blobs Classification Problem\n",
    "The make_blobs() function can be used to generate blobs of points with a Gaussian distribution.\n",
    "\n",
    "You can control how many blobs to generate and the number of samples to generate, as well as a host of other properties.\n",
    "\n",
    "The problem is suitable for linear classification problems given the linearly separable nature of the blobs.\n",
    "\n",
    "The example below generates a 2D dataset of samples with three blobs as a multi-class classification prediction problem. Each observation has two inputs and 0, 1, or 2 class values."
   ]
  },
  {
   "cell_type": "code",
   "execution_count": 5,
   "id": "f0efbf0d",
   "metadata": {},
   "outputs": [
    {
     "name": "stderr",
     "output_type": "stream",
     "text": [
      "In C:\\Users\\chenxy\\Anaconda3\\lib\\site-packages\\matplotlib\\mpl-data\\stylelib\\_classic_test.mplstyle: \n",
      "The text.latex.preview rcparam was deprecated in Matplotlib 3.3 and will be removed two minor releases later.\n",
      "In C:\\Users\\chenxy\\Anaconda3\\lib\\site-packages\\matplotlib\\mpl-data\\stylelib\\_classic_test.mplstyle: \n",
      "The mathtext.fallback_to_cm rcparam was deprecated in Matplotlib 3.3 and will be removed two minor releases later.\n",
      "In C:\\Users\\chenxy\\Anaconda3\\lib\\site-packages\\matplotlib\\mpl-data\\stylelib\\_classic_test.mplstyle: Support for setting the 'mathtext.fallback_to_cm' rcParam is deprecated since 3.3 and will be removed two minor releases later; use 'mathtext.fallback : 'cm' instead.\n",
      "In C:\\Users\\chenxy\\Anaconda3\\lib\\site-packages\\matplotlib\\mpl-data\\stylelib\\_classic_test.mplstyle: \n",
      "The validate_bool_maybe_none function was deprecated in Matplotlib 3.3 and will be removed two minor releases later.\n",
      "In C:\\Users\\chenxy\\Anaconda3\\lib\\site-packages\\matplotlib\\mpl-data\\stylelib\\_classic_test.mplstyle: \n",
      "The savefig.jpeg_quality rcparam was deprecated in Matplotlib 3.3 and will be removed two minor releases later.\n",
      "In C:\\Users\\chenxy\\Anaconda3\\lib\\site-packages\\matplotlib\\mpl-data\\stylelib\\_classic_test.mplstyle: \n",
      "The keymap.all_axes rcparam was deprecated in Matplotlib 3.3 and will be removed two minor releases later.\n",
      "In C:\\Users\\chenxy\\Anaconda3\\lib\\site-packages\\matplotlib\\mpl-data\\stylelib\\_classic_test.mplstyle: \n",
      "The animation.avconv_path rcparam was deprecated in Matplotlib 3.3 and will be removed two minor releases later.\n",
      "In C:\\Users\\chenxy\\Anaconda3\\lib\\site-packages\\matplotlib\\mpl-data\\stylelib\\_classic_test.mplstyle: \n",
      "The animation.avconv_args rcparam was deprecated in Matplotlib 3.3 and will be removed two minor releases later.\n"
     ]
    }
   ],
   "source": [
    "from sklearn.datasets import make_blobs\n",
    "from matplotlib import pyplot\n",
    "from pandas import DataFrame"
   ]
  },
  {
   "cell_type": "code",
   "execution_count": 4,
   "id": "9f9ae675",
   "metadata": {},
   "outputs": [],
   "source": [
    "# generate 2d classification dataset\n",
    "X, y = make_blobs(n_samples=100, centers=3, n_features=2)"
   ]
  },
  {
   "cell_type": "code",
   "execution_count": 6,
   "id": "7e5ff431",
   "metadata": {},
   "outputs": [
    {
     "data": {
      "image/png": "[encoded data removed]",
      "text/plain": [
       "<Figure size 432x288 with 1 Axes>"
      ]
     },
     "metadata": {
      "needs_background": "light"
     },
     "output_type": "display_data"
    }
   ],
   "source": [
    "# scatter plot, dots colored by class value\n",
    "df = DataFrame(dict(x=X[:,0], y=X[:,1], label=y))\n",
    "colors = {0:'red', 1:'blue', 2:'green'}\n",
    "fig, ax = pyplot.subplots()\n",
    "grouped = df.groupby('label')\n",
    "for key, group in grouped:\n",
    "    group.plot(ax=ax, kind='scatter', x='x', y='y', label=key, color=colors[key])\n",
    "pyplot.show()"
   ]
  },
  {
   "cell_type": "markdown",
   "id": "1a029cb3",
   "metadata": {},
   "source": [
    "We will use this same example structure for the following examples."
   ]
  },
  {
   "cell_type": "markdown",
   "id": "f50fcbf9",
   "metadata": {},
   "source": [
    "### Moons Classification Problem\n",
    "The make_moons() function is for binary classification and will generate a swirl pattern, or two moons.\n",
    "\n",
    "You can control how noisy the moon shapes are and the number of samples to generate.\n",
    "\n",
    "This test problem is suitable for algorithms that are capable of learning nonlinear class boundaries.\n",
    "\n",
    "The example below generates a moon dataset with moderate noise.\n",
    "\n",
    "Running the example generates and plots the dataset for review, again coloring samples by their assigned class."
   ]
  },
  {
   "cell_type": "code",
   "execution_count": 7,
   "id": "01debedb",
   "metadata": {},
   "outputs": [
    {
     "data": {
      "image/png": "[encoded data removed]",
      "text/plain": [
       "<Figure size 432x288 with 1 Axes>"
      ]
     },
     "metadata": {
      "needs_background": "light"
     },
     "output_type": "display_data"
    }
   ],
   "source": [
    "from sklearn.datasets import make_moons\n",
    "# generate 2d classification dataset\n",
    "X, y = make_moons(n_samples=100, noise=0.1)\n",
    "# scatter plot, dots colored by class value\n",
    "df = DataFrame(dict(x=X[:,0], y=X[:,1], label=y))\n",
    "colors = {0:'red', 1:'blue'}\n",
    "fig, ax = pyplot.subplots()\n",
    "grouped = df.groupby('label')\n",
    "for key, group in grouped:\n",
    "    group.plot(ax=ax, kind='scatter', x='x', y='y', label=key, color=colors[key])\n",
    "pyplot.show()"
   ]
  },
  {
   "cell_type": "markdown",
   "id": "aa290a21",
   "metadata": {},
   "source": [
    "### Circles Classification Problem\n",
    "\n",
    "The make_circles() function generates a binary classification problem with datasets that fall into concentric circles.\n",
    "\n",
    "Again, as with the moons test problem, you can control the amount of noise in the shapes.\n",
    "\n",
    "This test problem is suitable for algorithms that can learn complex non-linear manifolds.\n",
    "\n",
    "The example below generates a circles dataset with some noise."
   ]
  },
  {
   "cell_type": "code",
   "execution_count": 8,
   "id": "82e4f173",
   "metadata": {},
   "outputs": [
    {
     "data": {
      "image/png": "[encoded data removed]",
      "text/plain": [
       "<Figure size 432x288 with 1 Axes>"
      ]
     },
     "metadata": {
      "needs_background": "light"
     },
     "output_type": "display_data"
    }
   ],
   "source": [
    "from sklearn.datasets import make_circles\n",
    "# generate 2d classification dataset\n",
    "X, y = make_circles(n_samples=100, noise=0.05)\n",
    "# scatter plot, dots colored by class value\n",
    "df = DataFrame(dict(x=X[:,0], y=X[:,1], label=y))\n",
    "colors = {0:'red', 1:'blue'}\n",
    "fig, ax = pyplot.subplots()\n",
    "grouped = df.groupby('label')\n",
    "for key, group in grouped:\n",
    "    group.plot(ax=ax, kind='scatter', x='x', y='y', label=key, color=colors[key])\n",
    "pyplot.show()"
   ]
  },
  {
   "cell_type": "markdown",
   "id": "461ec3c2",
   "metadata": {},
   "source": [
    "### Regression Test Problems\n",
    "\n",
    "Regression is the problem of predicting a quantity given an observation.\n",
    "\n",
    "The make_regression() function will create a dataset with a linear relationship between inputs and the outputs.\n",
    "\n",
    "You can configure the number of samples, number of input features, level of noise, and much more.\n",
    "\n",
    "This dataset is suitable for algorithms that can learn a linear regression function.\n",
    "\n",
    "The example below will generate 100 examples with one input feature and one output feature with modest noise.\n",
    "\n",
    "Running the example will generate the data and plot the X and y relationship, which, given that it is linear, is quite boring."
   ]
  },
  {
   "cell_type": "code",
   "execution_count": 10,
   "id": "211e8fec",
   "metadata": {},
   "outputs": [
    {
     "data": {
      "image/png": "[encoded data removed]",
      "text/plain": [
       "<Figure size 432x288 with 1 Axes>"
      ]
     },
     "metadata": {
      "needs_background": "light"
     },
     "output_type": "display_data"
    }
   ],
   "source": [
    "from sklearn.datasets import make_regression\n",
    "# generate regression dataset\n",
    "X, y = make_regression(n_samples=100, n_features=1, noise=0.1)\n",
    "# plot regression dataset\n",
    "pyplot.scatter(X,y)\n",
    "pyplot.show()"
   ]
  },
  {
   "cell_type": "markdown",
   "id": "c0fdb6a6",
   "metadata": {},
   "source": [
    "### Extensions\n",
    "This section lists some ideas for extending the tutorial that you may wish to explore.\n",
    "\n",
    "Compare Algorithms. Select a test problem and compare a suite of algorithms on the problem and report the performance.\n",
    "Scale Up Problem. Select a test problem and explore scaling it up, use progression methods to visualize the results, and perhaps explore model skill vs problem scale for a given algorithm.\n",
    "Additional Problems. The library provides a suite of additional test problems; write a code example for each to demonstrate how they work.\n",
    "If you explore any of these extensions, I’d love to know.\n",
    "\n",
    "### Further Reading\n",
    "This section provides more resources on the topic if you are looking to go deeper.\n",
    "\n",
    "scikit-learn User Guide: Dataset loading utilities\n",
    "scikit-learn API: sklearn.datasets: Datasets\n",
    "\n",
    "## Summary\n",
    "In this tutorial, you discovered test problems and how to use them in Python with scikit-learn.\n",
    "\n",
    "Specifically, you learned:\n",
    "\n",
    "How to generate multi-class classification prediction test problems.\n",
    "How to generate binary classification prediction test problems.\n",
    "How to generate linear regression prediction test problems."
   ]
  },
  {
   "cell_type": "code",
   "execution_count": null,
   "id": "0266296e",
   "metadata": {},
   "outputs": [],
   "source": []
  }
 ],
 "metadata": {
  "kernelspec": {
   "display_name": "Python 3 (ipykernel)",
   "language": "python",
   "name": "python3"
  },
  "language_info": {
   "codemirror_mode": {
    "name": "ipython",
    "version": 3
   },
   "file_extension": ".py",
   "mimetype": "text/x-python",
   "name": "python",
   "nbconvert_exporter": "python",
   "pygments_lexer": "ipython3",
   "version": "3.8.5"
  }
 },
 "nbformat": 4,
 "nbformat_minor": 5
}
