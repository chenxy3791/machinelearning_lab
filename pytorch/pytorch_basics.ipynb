{
 "cells": [
  {
   "cell_type": "code",
   "execution_count": 1,
   "id": "54de8de8",
   "metadata": {},
   "outputs": [],
   "source": [
    "# 解决jupyter notebook使用matplotlib画图时内核挂掉的问题\n",
    "import os\n",
    "os.environ['KMP_DUPLICATE_LIB_OK']='True'"
   ]
  },
  {
   "cell_type": "code",
   "execution_count": 2,
   "id": "d5d674df",
   "metadata": {},
   "outputs": [],
   "source": [
    "import numpy as np\n",
    "import torch\n",
    "import torchvision\n",
    "import matplotlib.pyplot as plt\n",
    "%matplotlib inline"
   ]
  },
  {
   "cell_type": "code",
   "execution_count": 3,
   "id": "e24b7ed5",
   "metadata": {},
   "outputs": [
    {
     "name": "stdout",
     "output_type": "stream",
     "text": [
      "2.0.0\n",
      "True\n"
     ]
    }
   ],
   "source": [
    "print(torch.__version__)\n",
    "print(torch.cuda.is_available())"
   ]
  },
  {
   "cell_type": "code",
   "execution_count": 50,
   "id": "cfb62378",
   "metadata": {},
   "outputs": [
    {
     "data": {
      "text/plain": [
       "Text(0, 0.5, 'y')"
      ]
     },
     "execution_count": 50,
     "metadata": {},
     "output_type": "execute_result"
    },
    {
     "data": {
      "image/png": "[encoded data removed]",
      "text/plain": [
       "<Figure size 432x288 with 1 Axes>"
      ]
     },
     "metadata": {
      "needs_background": "light"
     },
     "output_type": "display_data"
    }
   ],
   "source": [
    "# Just an illustration for how to use matplotlib.pyplot for plotting\n",
    "fig, ax = plt.subplots(figsize=(6,4))  # Create a figure containing a single axes.\n",
    "x    = np.arange(100)\n",
    "Fs   = 100  # 100Hz sampling rate\n",
    "Fsin = 2    # 2Hz \n",
    "y = np.sin(2*np.pi*Fsin*(1/Fs)*x)\n",
    "ax.plot(x, y, label='y = np.sin(2*np.pi*Fsin*(1/Fs)*x)')  # Plot some data on the axes.\n",
    "ax.grid()\n",
    "ax.legend()\n",
    "ax.set_xlabel('x')\n",
    "ax.set_ylabel('y')"
   ]
  },
  {
   "cell_type": "markdown",
   "id": "c1474c4d",
   "metadata": {},
   "source": [
    "## Tensor"
   ]
  },
  {
   "cell_type": "code",
   "execution_count": 4,
   "id": "cf332ba6",
   "metadata": {},
   "outputs": [
    {
     "name": "stdout",
     "output_type": "stream",
     "text": [
      "tensor([0, 1, 2, 3, 4, 5, 6, 7, 8, 9]) torch.Size([10]) 10\n"
     ]
    }
   ],
   "source": [
    "x = torch.arange(10)\n",
    "print(x,x.shape,x.numel())"
   ]
  },
  {
   "cell_type": "code",
   "execution_count": 5,
   "id": "34ed8085",
   "metadata": {},
   "outputs": [
    {
     "name": "stdout",
     "output_type": "stream",
     "text": [
      "torch.Size([3, 4]) 12\n",
      "tensor([[0.8237, 0.8905, 0.0953, 0.5713],\n",
      "        [0.7150, 0.2870, 0.8049, 0.0171],\n",
      "        [0.7921, 0.3614, 0.6853, 0.3061]]) \n",
      " tensor([[0.8237, 0.8905, 0.0953, 0.5713, 0.7150, 0.2870],\n",
      "        [0.8049, 0.0171, 0.7921, 0.3614, 0.6853, 0.3061]])\n"
     ]
    }
   ],
   "source": [
    "y = torch.rand(3,4)\n",
    "print(y.shape, y.numel()) # number of elements\n",
    "print(y,'\\n', y.reshape(2,-1))"
   ]
  },
  {
   "cell_type": "code",
   "execution_count": 7,
   "id": "be7db03f",
   "metadata": {},
   "outputs": [
    {
     "name": "stdout",
     "output_type": "stream",
     "text": [
      "tensor([[[0., 0., 0., 0.],\n",
      "         [0., 0., 0., 0.],\n",
      "         [0., 0., 0., 0.]],\n",
      "\n",
      "        [[0., 0., 0., 0.],\n",
      "         [0., 0., 0., 0.],\n",
      "         [0., 0., 0., 0.]]]) torch.Size([2, 3, 4]) 24\n",
      "tensor([[[1., 1., 1., 1.],\n",
      "         [1., 1., 1., 1.],\n",
      "         [1., 1., 1., 1.]],\n",
      "\n",
      "        [[1., 1., 1., 1.],\n",
      "         [1., 1., 1., 1.],\n",
      "         [1., 1., 1., 1.]]])\n",
      "tensor([[[0., 0., 0., 0.],\n",
      "         [0., 0., 0., 0.],\n",
      "         [0., 0., 0., 0.]],\n",
      "\n",
      "        [[0., 0., 0., 0.],\n",
      "         [0., 0., 0., 0.],\n",
      "         [0., 0., 0., 0.]]])\n",
      "cpu\n"
     ]
    },
    {
     "ename": "NameError",
     "evalue": "name 'gpu' is not defined",
     "output_type": "error",
     "traceback": [
      "\u001b[1;31m---------------------------------------------------------------------------\u001b[0m",
      "\u001b[1;31mNameError\u001b[0m                                 Traceback (most recent call last)",
      "Cell \u001b[1;32mIn[7], line 8\u001b[0m\n\u001b[0;32m      6\u001b[0m \u001b[38;5;28mprint\u001b[39m(c)\n\u001b[0;32m      7\u001b[0m \u001b[38;5;28mprint\u001b[39m(a\u001b[38;5;241m.\u001b[39mdevice)\n\u001b[1;32m----> 8\u001b[0m a\u001b[38;5;241m.\u001b[39mto(device \u001b[38;5;241m=\u001b[39m \u001b[43mgpu\u001b[49m)\n",
      "\u001b[1;31mNameError\u001b[0m: name 'gpu' is not defined"
     ]
    }
   ],
   "source": [
    "a = torch.zeros(2,3,4)\n",
    "b = torch.ones((2,3,4)) # shape can also be specified using tuple\n",
    "c = torch.zeros_like(a)\n",
    "print(a, a.shape, a.numel())\n",
    "print(b)\n",
    "print(c)"
   ]
  },
  {
   "cell_type": "markdown",
   "id": "75357797",
   "metadata": {},
   "source": [
    "### 查询device属性，以及变更device属性"
   ]
  },
  {
   "cell_type": "code",
   "execution_count": 10,
   "id": "7b570377",
   "metadata": {},
   "outputs": [
    {
     "name": "stdout",
     "output_type": "stream",
     "text": [
      "cpu\n",
      "cuda:0\n"
     ]
    }
   ],
   "source": [
    "print(a.device)\n",
    "device = torch.device ( \"cuda:0\" if torch.cuda.is_available () else \"cpu\")\n",
    "a = a.to(device)\n",
    "print(a.device)"
   ]
  },
  {
   "cell_type": "markdown",
   "id": "9c6748ed",
   "metadata": {},
   "source": [
    "### 创建并初始化新的tensor的方法"
   ]
  },
  {
   "cell_type": "code",
   "execution_count": 13,
   "id": "314d0e4f",
   "metadata": {},
   "outputs": [
    {
     "name": "stdout",
     "output_type": "stream",
     "text": [
      "tensor([[[0., 0., 0., 0.],\n",
      "         [0., 0., 0., 0.],\n",
      "         [0., 0., 0., 0.]],\n",
      "\n",
      "        [[0., 0., 0., 0.],\n",
      "         [0., 0., 0., 0.],\n",
      "         [0., 0., 0., 0.]]]) \n",
      " tensor([[[0., 0., 0., 0.],\n",
      "         [0., 0., 0., 0.],\n",
      "         [0., 0., 0., 0.]],\n",
      "\n",
      "        [[0., 0., 0., 0.],\n",
      "         [0., 0., 0., 0.],\n",
      "         [0., 0., 0., 0.]]]) \n",
      " tensor([[[1., 1., 1., 1.],\n",
      "         [1., 1., 1., 1.],\n",
      "         [1., 1., 1., 1.]],\n",
      "\n",
      "        [[1., 1., 1., 1.],\n",
      "         [1., 1., 1., 1.],\n",
      "         [1., 1., 1., 1.]]]) \n",
      " tensor([[[ 0.7610, -0.0260, -1.0136, -0.3974],\n",
      "         [-0.7095,  1.4060,  0.9631,  0.2820],\n",
      "         [ 0.3941,  0.2859, -0.5973, -0.8829]],\n",
      "\n",
      "        [[-1.2867,  0.3216, -0.8913,  0.1164],\n",
      "         [ 0.2412, -0.1038,  0.4152, -0.5754],\n",
      "         [-1.5712,  0.1292, -0.2891, -0.7120]]])\n"
     ]
    }
   ],
   "source": [
    "a = torch.zeros(2,3,4)\n",
    "b = torch.zeros_like(a)\n",
    "c = torch.ones_like(a)\n",
    "d = torch.randn_like(a)\n",
    "print(a,'\\n',b,'\\n',c,'\\n',d)"
   ]
  },
  {
   "cell_type": "markdown",
   "id": "a4469dd9",
   "metadata": {},
   "source": [
    "## Random data generation"
   ]
  },
  {
   "cell_type": "code",
   "execution_count": 7,
   "id": "e1e160f3",
   "metadata": {},
   "outputs": [
    {
     "data": {
      "text/plain": [
       "torch.return_types.histogram(\n",
       "hist=tensor([0.9890, 0.9994, 0.9996, 0.9992, 1.0230, 1.0088, 0.9796, 1.0088, 1.0010,\n",
       "        1.0110, 0.9932, 1.0138, 1.0014, 0.9932, 1.0004, 1.0090, 0.9980, 0.9978,\n",
       "        0.9898, 0.9840]),\n",
       "bin_edges=tensor([1.3411e-05, 5.0013e-02, 1.0001e-01, 1.5001e-01, 2.0001e-01, 2.5001e-01,\n",
       "        3.0001e-01, 3.5001e-01, 4.0001e-01, 4.5001e-01, 5.0000e-01, 5.5000e-01,\n",
       "        6.0000e-01, 6.5000e-01, 7.0000e-01, 7.5000e-01, 8.0000e-01, 8.5000e-01,\n",
       "        9.0000e-01, 9.5000e-01, 1.0000e+00]))"
      ]
     },
     "execution_count": 7,
     "metadata": {},
     "output_type": "execute_result"
    }
   ],
   "source": [
    "x = torch.rand(100000) # uniform distribution\n",
    "y = torch.randn(100000) # normal or gaussian distribution\n",
    "torch.histogram(x=x,bins=20,density=True)"
   ]
  },
  {
   "cell_type": "code",
   "execution_count": 14,
   "id": "3a38e51d",
   "metadata": {},
   "outputs": [
    {
     "data": {
      "text/plain": [
       "(array([0.00121511, 0.        , 0.00243023, 0.        , 0.00121512,\n",
       "        0.00121511, 0.00121511, 0.00121512, 0.        , 0.        ,\n",
       "        0.00364535, 0.00243023, 0.00121511, 0.00486045, 0.00850582,\n",
       "        0.00850579, 0.01093602, 0.01336629, 0.02430227, 0.01944181,\n",
       "        0.01944187, 0.04252897, 0.04617431, 0.04495932, 0.05103476,\n",
       "        0.06804645, 0.05346499, 0.08384294, 0.08991852, 0.09720907,\n",
       "        0.13609289, 0.13244736, 0.17497658, 0.17983704, 0.18469723,\n",
       "        0.21750561, 0.24059262, 0.24545325, 0.26124956, 0.27826116,\n",
       "        0.31835993, 0.33901712, 0.32686573, 0.37790067, 0.37425519,\n",
       "        0.35967395, 0.38883663, 0.38519128, 0.42893541, 0.3864064 ,\n",
       "        0.38762151, 0.42407495, 0.38519135, 0.38154587, 0.36331929,\n",
       "        0.37304021, 0.34509244, 0.31835993, 0.27704625, 0.25881933,\n",
       "        0.26246468, 0.25031372, 0.21629018, 0.21629049, 0.17011612,\n",
       "        0.15674962, 0.11057548, 0.11422082, 0.1093602 , 0.08384294,\n",
       "        0.09842418, 0.07898248, 0.0486046 , 0.04252903, 0.03888363,\n",
       "        0.03402317, 0.02551745, 0.03159295, 0.01944181, 0.02430234,\n",
       "        0.00729068, 0.00972091, 0.0072907 , 0.01093602, 0.00607557,\n",
       "        0.00607558, 0.00121511, 0.00364534, 0.00364534, 0.00121512,\n",
       "        0.00243023, 0.00243023, 0.        , 0.00121511, 0.        ,\n",
       "        0.        , 0.00121511, 0.        , 0.        , 0.00121511]),\n",
       " array([-4.0317688e+00, -3.9494720e+00, -3.8671753e+00, -3.7848785e+00,\n",
       "        -3.7025816e+00, -3.6202850e+00, -3.5379882e+00, -3.4556913e+00,\n",
       "        -3.3733947e+00, -3.2910979e+00, -3.2088010e+00, -3.1265044e+00,\n",
       "        -3.0442076e+00, -2.9619107e+00, -2.8796139e+00, -2.7973173e+00,\n",
       "        -2.7150204e+00, -2.6327236e+00, -2.5504270e+00, -2.4681301e+00,\n",
       "        -2.3858333e+00, -2.3035367e+00, -2.2212398e+00, -2.1389430e+00,\n",
       "        -2.0566463e+00, -1.9743495e+00, -1.8920528e+00, -1.8097559e+00,\n",
       "        -1.7274592e+00, -1.6451625e+00, -1.5628656e+00, -1.4805689e+00,\n",
       "        -1.3982720e+00, -1.3159753e+00, -1.2336786e+00, -1.1513817e+00,\n",
       "        -1.0690850e+00, -9.8678821e-01, -9.0449148e-01, -8.2219470e-01,\n",
       "        -7.3989791e-01, -6.5760112e-01, -5.7530439e-01, -4.9300760e-01,\n",
       "        -4.1071084e-01, -3.2841405e-01, -2.4611729e-01, -1.6382052e-01,\n",
       "        -8.1523746e-02,  7.7302934e-04,  8.3069801e-02,  1.6536658e-01,\n",
       "         2.4766335e-01,  3.2996011e-01,  4.1225690e-01,  4.9455366e-01,\n",
       "         5.7685041e-01,  6.5914720e-01,  7.4144399e-01,  8.2374072e-01,\n",
       "         9.0603751e-01,  9.8833430e-01,  1.0706310e+00,  1.1529279e+00,\n",
       "         1.2352246e+00,  1.3175213e+00,  1.3998182e+00,  1.4821149e+00,\n",
       "         1.5644116e+00,  1.6467085e+00,  1.7290052e+00,  1.8113021e+00,\n",
       "         1.8935988e+00,  1.9758955e+00,  2.0581923e+00,  2.1404891e+00,\n",
       "         2.2227859e+00,  2.3050826e+00,  2.3873794e+00,  2.4696763e+00,\n",
       "         2.5519729e+00,  2.6342697e+00,  2.7165666e+00,  2.7988632e+00,\n",
       "         2.8811600e+00,  2.9634569e+00,  3.0457535e+00,  3.1280503e+00,\n",
       "         3.2103472e+00,  3.2926440e+00,  3.3749406e+00,  3.4572375e+00,\n",
       "         3.5395343e+00,  3.6218309e+00,  3.7041278e+00,  3.7864246e+00,\n",
       "         3.8687212e+00,  3.9510181e+00,  4.0333147e+00,  4.1156116e+00,\n",
       "         4.1979084e+00], dtype=float32),\n",
       " <BarContainer object of 100 artists>)"
      ]
     },
     "execution_count": 14,
     "metadata": {},
     "output_type": "execute_result"
    },
    {
     "data": {
      "image/png": "[encoded data removed]",
      "text/plain": [
       "<Figure size 576x288 with 2 Axes>"
      ]
     },
     "metadata": {
      "needs_background": "light"
     },
     "output_type": "display_data"
    }
   ],
   "source": [
    "fig,ax = plt.subplots(1,2,figsize=(8,4))\n",
    "ax[0].hist(x.numpy(),100,density=True) # ax.hist(x) is NG, must convert to numpy array first to use ax.hist\n",
    "ax[1].hist(y.numpy(),100,density=True)"
   ]
  },
  {
   "cell_type": "code",
   "execution_count": 30,
   "id": "b95c3e05",
   "metadata": {},
   "outputs": [
    {
     "data": {
      "text/plain": [
       "(array([0.11144444, 0.11766667, 0.11044444, 0.10944444, 0.10711111,\n",
       "        0.11044444, 0.11833333, 0.11277778, 0.10533333, 0.10811111]),\n",
       " array([0. , 0.9, 1.8, 2.7, 3.6, 4.5, 5.4, 6.3, 7.2, 8.1, 9. ]),\n",
       " <BarContainer object of 10 artists>)"
      ]
     },
     "execution_count": 30,
     "metadata": {},
     "output_type": "execute_result"
    },
    {
     "data": {
      "image/png": "[encoded data removed]",
      "text/plain": [
       "<Figure size 576x288 with 1 Axes>"
      ]
     },
     "metadata": {
      "needs_background": "light"
     },
     "output_type": "display_data"
    }
   ],
   "source": [
    "z = torch.randint(10, (10000,)) # uniform distribution of intergers in the specified range\n",
    "fig,ax = plt.subplots(figsize=(8,4))\n",
    "ax.hist(z.numpy(),10,density=True)"
   ]
  },
  {
   "cell_type": "code",
   "execution_count": 34,
   "id": "48108fbb",
   "metadata": {},
   "outputs": [
    {
     "data": {
      "text/plain": [
       "(array([0.00226765, 0.00680295, 0.01672391, 0.03741624, 0.07653317,\n",
       "        0.1309568 , 0.21882829, 0.30414854, 0.33958062, 0.40420866,\n",
       "        0.37529612, 0.33164385, 0.23668599, 0.17035722, 0.09864279,\n",
       "        0.04762064, 0.02409379, 0.0090706 , 0.00198419, 0.00170074]),\n",
       " array([-3.413898  , -3.0611098 , -2.7083218 , -2.3555336 , -2.0027456 ,\n",
       "        -1.6499574 , -1.2971693 , -0.9443813 , -0.59159315, -0.23880507,\n",
       "         0.11398304,  0.46677113,  0.8195592 ,  1.1723473 ,  1.5251354 ,\n",
       "         1.8779235 ,  2.2307117 ,  2.5834997 ,  2.9362879 ,  3.2890759 ,\n",
       "         3.641864  ], dtype=float32),\n",
       " <BarContainer object of 20 artists>)"
      ]
     },
     "execution_count": 34,
     "metadata": {},
     "output_type": "execute_result"
    },
    {
     "data": {
      "image/png": "[encoded data removed]",
      "text/plain": [
       "<Figure size 576x288 with 2 Axes>"
      ]
     },
     "metadata": {
      "needs_background": "light"
     },
     "output_type": "display_data"
    }
   ],
   "source": [
    "# torch.normal is (almost?) the same as torch.randn()\n",
    "z1 = torch.normal(mean=0.,std=1.,size=(10000,))\n",
    "z2 = torch.randn(10000)\n",
    "fig,ax = plt.subplots(1,2,figsize=(8,4))\n",
    "ax[0].hist(z1.numpy(),20,density=True) # ax.hist(x) is NG, must convert to numpy array first to use ax.hist\n",
    "ax[1].hist(z2.numpy(),20,density=True)"
   ]
  },
  {
   "cell_type": "markdown",
   "id": "ca523b2a",
   "metadata": {},
   "source": [
    "## 基本运算，element-wise运算"
   ]
  },
  {
   "cell_type": "code",
   "execution_count": 39,
   "id": "eb3e7b6c",
   "metadata": {},
   "outputs": [
    {
     "data": {
      "text/plain": [
       "(tensor([ 3.,  4.,  6., 10.]),\n",
       " tensor([-1.,  0.,  2.,  6.]),\n",
       " tensor([ 2.,  4.,  8., 16.]),\n",
       " tensor([0.5000, 1.0000, 2.0000, 4.0000]),\n",
       " tensor([ 1.,  4., 16., 64.]),\n",
       " tensor([2.7183e+00, 7.3891e+00, 5.4598e+01, 2.9810e+03]),\n",
       " tensor([False, False,  True,  True]))"
      ]
     },
     "execution_count": 39,
     "metadata": {},
     "output_type": "execute_result"
    }
   ],
   "source": [
    "x = torch.tensor([1.0, 2, 4, 8])\n",
    "y = torch.tensor([2, 2, 2, 2])\n",
    "x + y, x - y, x * y, x / y, x ** y, torch.exp(x), x > y  # **运算符是求幂运算. Here all are element-wise operation"
   ]
  },
  {
   "cell_type": "markdown",
   "id": "bea18635",
   "metadata": {},
   "source": [
    "## Concatenate\n",
    "\n",
    "dim=0就是第1层（最外层），dim=1就是第2，。。。\n",
    "\n",
    "沿dim=0串接的效果是shape[0]等于两个输入的shape[0]之和，shape的其它成员值保持不变。或者说，轴0的长度变为两个输入张量的轴0长度之和，其余轴长度不变。\n",
    "\n",
    "沿dim=1串接的效果是shape[1]等于两个输入的shape[1]之和，shape的其它成员值保持不变。或者说，轴1的长度变为两个输入张量的轴1长度之和，其余轴长度不变。"
   ]
  },
  {
   "cell_type": "code",
   "execution_count": 38,
   "id": "318d3576",
   "metadata": {},
   "outputs": [
    {
     "data": {
      "text/plain": [
       "(tensor([[ 0.,  1.,  2.,  3.],\n",
       "         [ 4.,  5.,  6.,  7.],\n",
       "         [ 8.,  9., 10., 11.],\n",
       "         [ 2.,  1.,  4.,  3.],\n",
       "         [ 1.,  2.,  3.,  4.],\n",
       "         [ 4.,  3.,  2.,  1.]]),\n",
       " tensor([[ 0.,  1.,  2.,  3.,  2.,  1.,  4.,  3.],\n",
       "         [ 4.,  5.,  6.,  7.,  1.,  2.,  3.,  4.],\n",
       "         [ 8.,  9., 10., 11.,  4.,  3.,  2.,  1.]]))"
      ]
     },
     "execution_count": 38,
     "metadata": {},
     "output_type": "execute_result"
    }
   ],
   "source": [
    "X = torch.arange(12, dtype=torch.float32).reshape((3,4))\n",
    "Y = torch.tensor([[2.0, 1, 4, 3], [1, 2, 3, 4], [4, 3, 2, 1]])\n",
    "torch.cat((X, Y), dim=0), torch.cat((X, Y), dim=1)"
   ]
  },
  {
   "cell_type": "code",
   "execution_count": 41,
   "id": "74cac3f9",
   "metadata": {},
   "outputs": [
    {
     "name": "stdout",
     "output_type": "stream",
     "text": [
      "tensor(66.)\n",
      "tensor(0.)\n"
     ]
    }
   ],
   "source": [
    "print(X.sum())\n",
    "print(X.prod())"
   ]
  },
  {
   "cell_type": "markdown",
   "id": "8e62b1d3",
   "metadata": {},
   "source": [
    "## 广播机制\n",
    "\n",
    "在相同形状的两个张量上执行按元素操作。 在某些情况下，即使形状不同，我们仍然可以通过调用 广播机制（broadcasting mechanism）来执行按元素操作。 这种机制的工作方式如下：\n",
    "\n",
    "通过适当复制元素来扩展一个或两个数组，以便在转换之后，两个张量具有相同的形状；\n",
    "\n",
    "对生成的数组执行按元素操作。\n",
    "\n",
    "在大多数情况下，我们将沿着数组中长度为1的轴进行广播，"
   ]
  },
  {
   "cell_type": "code",
   "execution_count": 51,
   "id": "4bee2be0",
   "metadata": {},
   "outputs": [
    {
     "name": "stdout",
     "output_type": "stream",
     "text": [
      "tensor([[0],\n",
      "        [1],\n",
      "        [2]]) tensor([[0, 1]]) tensor([[0, 1],\n",
      "        [1, 2],\n",
      "        [2, 3]])\n"
     ]
    }
   ],
   "source": [
    "a = torch.arange(3).reshape((3, 1))\n",
    "b = torch.arange(2).reshape((1, 2))\n",
    "print(a, b, a+b)"
   ]
  },
  {
   "cell_type": "markdown",
   "id": "3485e8ce",
   "metadata": {},
   "source": [
    "## 索引和切片\n",
    "\n",
    "就像在任何其他Python数组中一样，张量中的元素可以通过索引访问。 与任何Python数组一样：第一个元素的索引是0，最后一个元素索引是-1； 可以指定范围以包含第一个元素和最后一个之前的元素。\n",
    "\n",
    "除了读取，也可以通过索引和切片进行赋值。"
   ]
  },
  {
   "cell_type": "markdown",
   "id": "be29752b",
   "metadata": {},
   "source": [
    "## 节省内存, in-place operation\n",
    "\n",
    "运行一些操作可能会导致为新结果分配内存。 例如，如果我们用Y = X + Y，我们将取消引用Y指向的张量，而是指向新分配的内存处的张量。\n",
    "\n",
    "在下面的例子中，我们用Python的id()函数演示了这一点， 它给我们提供了内存中引用对象的确切地址。 运行Y = Y + X后，我们会发现id(Y)指向另一个位置。 这是因为Python首先计算Y + X，为结果分配新的内存，然后使Y指向内存中的这个新位置。"
   ]
  },
  {
   "cell_type": "code",
   "execution_count": 53,
   "id": "419c5ab3",
   "metadata": {},
   "outputs": [
    {
     "name": "stdout",
     "output_type": "stream",
     "text": [
      "2294432040176 2294431988688 False\n"
     ]
    }
   ],
   "source": [
    "before = id(Y)\n",
    "Y = Y + X\n",
    "print(before, id(Y), id(Y) == before)"
   ]
  },
  {
   "cell_type": "markdown",
   "id": "3d58ad9b",
   "metadata": {},
   "source": [
    "这可能是不可取的，原因有两个：\n",
    "\n",
    "首先，我们不想总是不必要地分配内存。在机器学习中，我们可能有数百兆的参数，并且在一秒内多次更新所有参数。通常情况下，我们希望原地执行这些更新；\n",
    "\n",
    "如果我们不原地更新，其他引用仍然会指向旧的内存位置，这样我们的某些代码可能会无意中引用旧的参数。\n",
    "\n",
    "幸运的是，执行原地操作非常简单。 我们可以使用切片表示法将操作的结果分配给先前分配的数组，例如Y[:] = <expression>。 另一种方法是采用 Y += <expression>的形式进行赋值更新。"
   ]
  },
  {
   "cell_type": "code",
   "execution_count": 55,
   "id": "65722bbb",
   "metadata": {},
   "outputs": [
    {
     "name": "stdout",
     "output_type": "stream",
     "text": [
      "2294431988688 2294431988688 True\n",
      "2294431988688 2294431988688 True\n"
     ]
    }
   ],
   "source": [
    "before = id(Y)\n",
    "Y[:] = Y + X\n",
    "print(before, id(Y), id(Y) == before)\n",
    "Y += X\n",
    "print(before, id(Y), id(Y) == before)"
   ]
  },
  {
   "cell_type": "markdown",
   "id": "998fc0bc",
   "metadata": {},
   "source": [
    "## 转换为其他Python对象\n",
    "\n",
    "将深度学习框架定义的张量转换为NumPy张量（ndarray）很容易，反之也同样容易。 torch张量和numpy数组将共享它们的底层内存，就地操作更改一个张量也会同时更改另一个张量。\n",
    "\n",
    "要将大小为1的张量转换为Python标量，我们可以调用item函数或Python的内置函数。"
   ]
  },
  {
   "cell_type": "code",
   "execution_count": 58,
   "id": "d9b56ee5",
   "metadata": {},
   "outputs": [
    {
     "name": "stdout",
     "output_type": "stream",
     "text": [
      "<class 'numpy.ndarray'> <class 'torch.Tensor'>\n"
     ]
    },
    {
     "data": {
      "text/plain": [
       "(tensor([3.5000]), 3.5, 3.5, 3)"
      ]
     },
     "execution_count": 58,
     "metadata": {},
     "output_type": "execute_result"
    }
   ],
   "source": [
    "A = X.numpy()\n",
    "B = torch.tensor(A)\n",
    "print(type(A), type(B))\n",
    "\n",
    "a = torch.tensor([3.5])\n",
    "a, a.item(), float(a), int(a)"
   ]
  },
  {
   "cell_type": "code",
   "execution_count": 4,
   "id": "1760fd16",
   "metadata": {},
   "outputs": [
    {
     "name": "stdout",
     "output_type": "stream",
     "text": [
      "a + b:  [5 7 9]\n",
      "a - b:  [-1 -1 -1]\n",
      "a * b:  [ 6 12 20]\n",
      "a / b:  [0.6666667 0.75      0.8      ]\n"
     ]
    }
   ],
   "source": [
    "a = torch.tensor([2, 3, 4])\n",
    "b = torch.tensor([3, 4, 5])\n",
    "print(\"a + b: \", (a + b).numpy())\n",
    "print(\"a - b: \", (a - b).numpy())\n",
    "print(\"a * b: \", (a * b).numpy())\n",
    "print(\"a / b: \", (a / b).numpy())"
   ]
  },
  {
   "cell_type": "markdown",
   "id": "87f5ec12",
   "metadata": {},
   "source": [
    "## 数据预处理\n",
    "\n",
    "为了能用深度学习来解决现实世界的问题，我们经常从预处理原始数据开始， 而不是从那些准备好的张量格式数据开始。 在Python中常用的数据分析工具中，我们通常使用pandas软件包。 像庞大的Python生态系统中的许多其他扩展包一样，pandas可以与张量兼容。 本节我们将简要介绍使用pandas预处理原始数据，并将原始数据转换为张量格式的步骤。 后面的章节将介绍更多的数据预处理技术。\n",
    "\n",
    "以下代码段，我们首先创建一个人工数据集，并存储在CSV（逗号分隔值）文件 ../data/house_tiny.csv中。 以其他格式存储的数据也可以通过类似的方式进行处理。 下面我们将数据集按行写入CSV文件中。"
   ]
  },
  {
   "cell_type": "code",
   "execution_count": 18,
   "id": "c55c1a57",
   "metadata": {},
   "outputs": [],
   "source": [
    "import os\n",
    "\n",
    "os.makedirs(os.path.join('..', 'data'), exist_ok=True)\n",
    "data_file = os.path.join('..', 'data', 'house_tiny.csv')\n",
    "with open(data_file, 'w') as f:\n",
    "    f.write('NumRooms,Alley,Price\\n')  # 列名\n",
    "    f.write('NA,Pave,127500\\n')  # 每行表示一个数据样本\n",
    "    f.write('2,NA,106000\\n')\n",
    "    f.write('4,NA,178100\\n')\n",
    "    f.write('NA,NA,140000\\n')"
   ]
  },
  {
   "cell_type": "markdown",
   "id": "beb215f3",
   "metadata": {},
   "source": [
    "要从创建的CSV文件中加载原始数据集，我们导入pandas包并调用read_csv函数。该数据集有四行三列。其中每行描述了房间数量（“NumRooms”）、巷子类型（“Alley”）和房屋价格（“Price”）。"
   ]
  },
  {
   "cell_type": "code",
   "execution_count": 19,
   "id": "ed4a3ff9",
   "metadata": {},
   "outputs": [
    {
     "data": {
      "text/html": [
       "<div>\n",
       "<style scoped>\n",
       "    .dataframe tbody tr th:only-of-type {\n",
       "        vertical-align: middle;\n",
       "    }\n",
       "\n",
       "    .dataframe tbody tr th {\n",
       "        vertical-align: top;\n",
       "    }\n",
       "\n",
       "    .dataframe thead th {\n",
       "        text-align: right;\n",
       "    }\n",
       "</style>\n",
       "<table border=\"1\" class=\"dataframe\">\n",
       "  <thead>\n",
       "    <tr style=\"text-align: right;\">\n",
       "      <th></th>\n",
       "      <th>NumRooms</th>\n",
       "      <th>Alley</th>\n",
       "      <th>Price</th>\n",
       "    </tr>\n",
       "  </thead>\n",
       "  <tbody>\n",
       "    <tr>\n",
       "      <th>0</th>\n",
       "      <td>NaN</td>\n",
       "      <td>Pave</td>\n",
       "      <td>127500</td>\n",
       "    </tr>\n",
       "    <tr>\n",
       "      <th>1</th>\n",
       "      <td>2.0</td>\n",
       "      <td>NaN</td>\n",
       "      <td>106000</td>\n",
       "    </tr>\n",
       "    <tr>\n",
       "      <th>2</th>\n",
       "      <td>4.0</td>\n",
       "      <td>NaN</td>\n",
       "      <td>178100</td>\n",
       "    </tr>\n",
       "    <tr>\n",
       "      <th>3</th>\n",
       "      <td>NaN</td>\n",
       "      <td>NaN</td>\n",
       "      <td>140000</td>\n",
       "    </tr>\n",
       "  </tbody>\n",
       "</table>\n",
       "</div>"
      ],
      "text/plain": [
       "   NumRooms Alley   Price\n",
       "0       NaN  Pave  127500\n",
       "1       2.0   NaN  106000\n",
       "2       4.0   NaN  178100\n",
       "3       NaN   NaN  140000"
      ]
     },
     "execution_count": 19,
     "metadata": {},
     "output_type": "execute_result"
    }
   ],
   "source": [
    "# 如果没有安装pandas，只需取消对以下行的注释来安装pandas\n",
    "# !pip install pandas\n",
    "import pandas as pd\n",
    "\n",
    "data = pd.read_csv(data_file)\n",
    "data\n",
    "# print(data) using this to produce somehow ugly output"
   ]
  },
  {
   "cell_type": "markdown",
   "id": "508c8961",
   "metadata": {},
   "source": [
    "## 处理缺失值\n",
    "\n",
    "注意，“NaN”项代表缺失值。 为了处理缺失的数据，典型的方法包括插值法和删除法， 其中插值法用一个替代值弥补缺失值，而删除法则直接忽略缺失值。 在这里，我们将考虑插值法。\n",
    "\n",
    "通过位置索引iloc，我们将data分成inputs和outputs， 其中前者为data的前两列，而后者为data的最后一列。 对于inputs中缺少的数值，我们用同一列的均值替换“NaN”项。"
   ]
  },
  {
   "cell_type": "code",
   "execution_count": 20,
   "id": "8974b76d",
   "metadata": {},
   "outputs": [
    {
     "name": "stdout",
     "output_type": "stream",
     "text": [
      "   NumRooms Alley\n",
      "0       3.0  Pave\n",
      "1       2.0   NaN\n",
      "2       4.0   NaN\n",
      "3       3.0   NaN\n"
     ]
    },
    {
     "name": "stderr",
     "output_type": "stream",
     "text": [
      "C:\\Users\\chenxy\\AppData\\Local\\Temp\\ipykernel_28160\\38268100.py:2: FutureWarning: The default value of numeric_only in DataFrame.mean is deprecated. In a future version, it will default to False. In addition, specifying 'numeric_only=None' is deprecated. Select only valid columns or specify the value of numeric_only to silence this warning.\n",
      "  inputs = inputs.fillna(inputs.mean())\n"
     ]
    }
   ],
   "source": [
    "inputs, outputs = data.iloc[:, 0:2], data.iloc[:, 2]\n",
    "inputs = inputs.fillna(inputs.mean())\n",
    "print(inputs)"
   ]
  },
  {
   "cell_type": "markdown",
   "id": "6238ee13",
   "metadata": {},
   "source": [
    "对于inputs中的类别值或离散值，我们将“NaN”视为一个类别。 由于“巷子类型”（“Alley”）列只接受两种类型的类别值“Pave”和“NaN”， pandas可以自动将此列转换为两列“Alley_Pave”和“Alley_nan”。 巷子类型为“Pave”的行会将“Alley_Pave”的值设置为1，“Alley_nan”的值设置为0。 缺少巷子类型的行会将“Alley_Pave”和“Alley_nan”分别设置为0和1。"
   ]
  },
  {
   "cell_type": "code",
   "execution_count": 21,
   "id": "1dcfa765",
   "metadata": {},
   "outputs": [
    {
     "name": "stdout",
     "output_type": "stream",
     "text": [
      "   NumRooms  Alley_Pave  Alley_nan\n",
      "0       3.0           1          0\n",
      "1       2.0           0          1\n",
      "2       4.0           0          1\n",
      "3       3.0           0          1\n"
     ]
    }
   ],
   "source": [
    "inputs = pd.get_dummies(inputs, dummy_na=True)\n",
    "print(inputs)"
   ]
  },
  {
   "cell_type": "markdown",
   "id": "76e3b622",
   "metadata": {},
   "source": [
    "## 转换为张量格式\n",
    "现在inputs和outputs中的所有条目都是数值类型，它们可以转换为张量格式。 当数据采用张量格式后，可以通过在 2.1节中引入的那些张量函数来进一步操作。"
   ]
  },
  {
   "cell_type": "code",
   "execution_count": 22,
   "id": "d81b9755",
   "metadata": {},
   "outputs": [
    {
     "data": {
      "text/plain": [
       "(tensor([[3., 1., 0.],\n",
       "         [2., 0., 1.],\n",
       "         [4., 0., 1.],\n",
       "         [3., 0., 1.]], dtype=torch.float64),\n",
       " tensor([127500, 106000, 178100, 140000]))"
      ]
     },
     "execution_count": 22,
     "metadata": {},
     "output_type": "execute_result"
    }
   ],
   "source": [
    "import torch\n",
    "X, y = torch.tensor(inputs.values), torch.tensor(outputs.values)\n",
    "X, y"
   ]
  },
  {
   "cell_type": "markdown",
   "id": "461f8dd4",
   "metadata": {},
   "source": [
    "# 创建一个简单的神经网络"
   ]
  },
  {
   "cell_type": "code",
   "execution_count": 1,
   "id": "2109549b",
   "metadata": {},
   "outputs": [],
   "source": [
    "import torch\n",
    "import torch.nn as nn"
   ]
  },
  {
   "cell_type": "code",
   "execution_count": 10,
   "id": "297e1297",
   "metadata": {},
   "outputs": [
    {
     "data": {
      "text/plain": [
       "['AdaptiveAvgPool1d',\n",
       " 'AdaptiveAvgPool2d',\n",
       " 'AdaptiveAvgPool3d',\n",
       " 'AdaptiveLogSoftmaxWithLoss',\n",
       " 'AdaptiveMaxPool1d',\n",
       " 'AdaptiveMaxPool2d',\n",
       " 'AdaptiveMaxPool3d',\n",
       " 'AlphaDropout',\n",
       " 'AvgPool1d',\n",
       " 'AvgPool2d',\n",
       " 'AvgPool3d',\n",
       " 'BCELoss',\n",
       " 'BCEWithLogitsLoss',\n",
       " 'BatchNorm1d',\n",
       " 'BatchNorm2d',\n",
       " 'BatchNorm3d',\n",
       " 'Bilinear',\n",
       " 'CELU',\n",
       " 'CTCLoss',\n",
       " 'ChannelShuffle',\n",
       " 'ConstantPad1d',\n",
       " 'ConstantPad2d',\n",
       " 'ConstantPad3d',\n",
       " 'Container',\n",
       " 'Conv1d',\n",
       " 'Conv2d',\n",
       " 'Conv3d',\n",
       " 'ConvTranspose1d',\n",
       " 'ConvTranspose2d',\n",
       " 'ConvTranspose3d',\n",
       " 'CosineEmbeddingLoss',\n",
       " 'CosineSimilarity',\n",
       " 'CrossEntropyLoss',\n",
       " 'CrossMapLRN2d',\n",
       " 'DataParallel',\n",
       " 'Dropout',\n",
       " 'Dropout1d',\n",
       " 'Dropout2d',\n",
       " 'Dropout3d',\n",
       " 'ELU',\n",
       " 'Embedding',\n",
       " 'EmbeddingBag',\n",
       " 'FeatureAlphaDropout',\n",
       " 'Flatten',\n",
       " 'Fold',\n",
       " 'FractionalMaxPool2d',\n",
       " 'FractionalMaxPool3d',\n",
       " 'GELU',\n",
       " 'GLU',\n",
       " 'GRU',\n",
       " 'GRUCell',\n",
       " 'GaussianNLLLoss',\n",
       " 'GroupNorm',\n",
       " 'Hardshrink',\n",
       " 'Hardsigmoid',\n",
       " 'Hardswish',\n",
       " 'Hardtanh',\n",
       " 'HingeEmbeddingLoss',\n",
       " 'HuberLoss',\n",
       " 'Identity',\n",
       " 'InstanceNorm1d',\n",
       " 'InstanceNorm2d',\n",
       " 'InstanceNorm3d',\n",
       " 'KLDivLoss',\n",
       " 'L1Loss',\n",
       " 'LPPool1d',\n",
       " 'LPPool2d',\n",
       " 'LSTM',\n",
       " 'LSTMCell',\n",
       " 'LayerNorm',\n",
       " 'LazyBatchNorm1d',\n",
       " 'LazyBatchNorm2d',\n",
       " 'LazyBatchNorm3d',\n",
       " 'LazyConv1d',\n",
       " 'LazyConv2d',\n",
       " 'LazyConv3d',\n",
       " 'LazyConvTranspose1d',\n",
       " 'LazyConvTranspose2d',\n",
       " 'LazyConvTranspose3d',\n",
       " 'LazyInstanceNorm1d',\n",
       " 'LazyInstanceNorm2d',\n",
       " 'LazyInstanceNorm3d',\n",
       " 'LazyLinear',\n",
       " 'LeakyReLU',\n",
       " 'Linear',\n",
       " 'LocalResponseNorm',\n",
       " 'LogSigmoid',\n",
       " 'LogSoftmax',\n",
       " 'MSELoss',\n",
       " 'MarginRankingLoss',\n",
       " 'MaxPool1d',\n",
       " 'MaxPool2d',\n",
       " 'MaxPool3d',\n",
       " 'MaxUnpool1d',\n",
       " 'MaxUnpool2d',\n",
       " 'MaxUnpool3d',\n",
       " 'Mish',\n",
       " 'Module',\n",
       " 'ModuleDict',\n",
       " 'ModuleList',\n",
       " 'MultiLabelMarginLoss',\n",
       " 'MultiLabelSoftMarginLoss',\n",
       " 'MultiMarginLoss',\n",
       " 'MultiheadAttention',\n",
       " 'NLLLoss',\n",
       " 'NLLLoss2d',\n",
       " 'PReLU',\n",
       " 'PairwiseDistance',\n",
       " 'Parameter',\n",
       " 'ParameterDict',\n",
       " 'ParameterList',\n",
       " 'PixelShuffle',\n",
       " 'PixelUnshuffle',\n",
       " 'PoissonNLLLoss',\n",
       " 'RNN',\n",
       " 'RNNBase',\n",
       " 'RNNCell',\n",
       " 'RNNCellBase',\n",
       " 'RReLU',\n",
       " 'ReLU',\n",
       " 'ReLU6',\n",
       " 'ReflectionPad1d',\n",
       " 'ReflectionPad2d',\n",
       " 'ReflectionPad3d',\n",
       " 'ReplicationPad1d',\n",
       " 'ReplicationPad2d',\n",
       " 'ReplicationPad3d',\n",
       " 'SELU',\n",
       " 'Sequential',\n",
       " 'SiLU',\n",
       " 'Sigmoid',\n",
       " 'SmoothL1Loss',\n",
       " 'SoftMarginLoss',\n",
       " 'Softmax',\n",
       " 'Softmax2d',\n",
       " 'Softmin',\n",
       " 'Softplus',\n",
       " 'Softshrink',\n",
       " 'Softsign',\n",
       " 'SyncBatchNorm',\n",
       " 'Tanh',\n",
       " 'Tanhshrink',\n",
       " 'Threshold',\n",
       " 'Transformer',\n",
       " 'TransformerDecoder',\n",
       " 'TransformerDecoderLayer',\n",
       " 'TransformerEncoder',\n",
       " 'TransformerEncoderLayer',\n",
       " 'TripletMarginLoss',\n",
       " 'TripletMarginWithDistanceLoss',\n",
       " 'Unflatten',\n",
       " 'Unfold',\n",
       " 'UninitializedBuffer',\n",
       " 'UninitializedParameter',\n",
       " 'Upsample',\n",
       " 'UpsamplingBilinear2d',\n",
       " 'UpsamplingNearest2d',\n",
       " 'ZeroPad2d',\n",
       " '__builtins__',\n",
       " '__cached__',\n",
       " '__doc__',\n",
       " '__file__',\n",
       " '__loader__',\n",
       " '__name__',\n",
       " '__package__',\n",
       " '__path__',\n",
       " '__spec__',\n",
       " '_reduction',\n",
       " 'common_types',\n",
       " 'factory_kwargs',\n",
       " 'functional',\n",
       " 'grad',\n",
       " 'init',\n",
       " 'intrinsic',\n",
       " 'modules',\n",
       " 'parallel',\n",
       " 'parameter',\n",
       " 'qat',\n",
       " 'quantizable',\n",
       " 'quantized',\n",
       " 'utils']"
      ]
     },
     "execution_count": 10,
     "metadata": {},
     "output_type": "execute_result"
    }
   ],
   "source": [
    "# 查询nn中有哪些东东\n",
    "dir(nn)"
   ]
  },
  {
   "cell_type": "code",
   "execution_count": 9,
   "id": "3e59c3c5",
   "metadata": {},
   "outputs": [
    {
     "name": "stdout",
     "output_type": "stream",
     "text": [
      "tensor([[ 1.0546, -0.1002],\n",
      "        [-0.5170, -0.3604],\n",
      "        [ 0.0272, -0.1497]], grad_fn=<AddmmBackward0>) tensor([[1.0546, 0.0000],\n",
      "        [0.0000, 0.0000],\n",
      "        [0.0272, 0.0000]], grad_fn=<ReluBackward0>)\n"
     ]
    }
   ],
   "source": [
    "# A feedforward network: Linear + ReLU\n",
    "linear = nn.Linear(10,2)  # (input size, output size)\n",
    "input  = torch.randn(3,10)\n",
    "output = linear(input)\n",
    "relu   = nn.ReLU()\n",
    "relu_output = relu(output)\n",
    "print(output, relu_output)"
   ]
  },
  {
   "cell_type": "markdown",
   "id": "6e76ea60",
   "metadata": {},
   "source": [
    "## Basic ML training loop\n",
    "\n",
    "(a) 全零初始化梯度向量\n",
    "\n",
    "(b) calculating loss\n",
    "\n",
    "(c) calculate gradient w.r.t loss"
   ]
  },
  {
   "cell_type": "code",
   "execution_count": 10,
   "id": "98056507",
   "metadata": {},
   "outputs": [
    {
     "name": "stdout",
     "output_type": "stream",
     "text": [
      "tensor([[1.3941, 0.0000],\n",
      "        [0.1819, 1.0295],\n",
      "        [0.4240, 0.0000],\n",
      "        [0.0000, 0.9384],\n",
      "        [0.0000, 0.0000]], grad_fn=<ReluBackward0>)\n",
      "tensor(0.7546, grad_fn=<MeanBackward0>)\n",
      "tensor(0.6999, grad_fn=<MeanBackward0>)\n",
      "tensor(0.6622, grad_fn=<MeanBackward0>)\n",
      "tensor(0.6201, grad_fn=<MeanBackward0>)\n",
      "tensor(0.5692, grad_fn=<MeanBackward0>)\n",
      "tensor(0.5092, grad_fn=<MeanBackward0>)\n",
      "tensor(0.4396, grad_fn=<MeanBackward0>)\n",
      "tensor(0.3544, grad_fn=<MeanBackward0>)\n",
      "tensor(0.2590, grad_fn=<MeanBackward0>)\n",
      "tensor(0.1573, grad_fn=<MeanBackward0>)\n",
      "tensor(0.0705, grad_fn=<MeanBackward0>)\n",
      "tensor(0.0827, grad_fn=<MeanBackward0>)\n",
      "tensor(0.1237, grad_fn=<MeanBackward0>)\n",
      "tensor(0.1527, grad_fn=<MeanBackward0>)\n",
      "tensor(0.1681, grad_fn=<MeanBackward0>)\n",
      "tensor(0.1681, grad_fn=<MeanBackward0>)\n",
      "tensor(0.1533, grad_fn=<MeanBackward0>)\n",
      "tensor(0.1271, grad_fn=<MeanBackward0>)\n",
      "tensor(0.0920, grad_fn=<MeanBackward0>)\n",
      "tensor(0.0502, grad_fn=<MeanBackward0>)\n"
     ]
    }
   ],
   "source": [
    "import torch.optim as optim\n",
    "mlp_layer = nn.Sequential(nn.Linear(5,2), nn.BatchNorm1d(2),nn.ReLU())\n",
    "input     = torch.randn(5,5) + 1\n",
    "print(mlp_layer(input))\n",
    "adam_opt = optim.Adam(mlp_layer.parameters(),lr=0.1)\n",
    "\n",
    "train_ex = torch.randn(100,5) + 1\n",
    "for k in range(20):\n",
    "    adam_opt.zero_grad()\n",
    "    cur_loss = torch.abs(1 - mlp_layer(train_ex)).mean()\n",
    "    cur_loss.backward()\n",
    "    adam_opt.step()\n",
    "    print(cur_loss)"
   ]
  },
  {
   "cell_type": "code",
   "execution_count": 8,
   "id": "c5290466",
   "metadata": {},
   "outputs": [
    {
     "name": "stdout",
     "output_type": "stream",
     "text": [
      "tensor(0.7680, grad_fn=<MeanBackward0>)\n",
      "tensor(0.7290, grad_fn=<MeanBackward0>)\n",
      "tensor(0.6958, grad_fn=<MeanBackward0>)\n",
      "tensor(0.6534, grad_fn=<MeanBackward0>)\n",
      "tensor(0.6001, grad_fn=<MeanBackward0>)\n",
      "tensor(0.5318, grad_fn=<MeanBackward0>)\n",
      "tensor(0.4453, grad_fn=<MeanBackward0>)\n",
      "tensor(0.3463, grad_fn=<MeanBackward0>)\n",
      "tensor(0.2373, grad_fn=<MeanBackward0>)\n",
      "tensor(0.1273, grad_fn=<MeanBackward0>)\n",
      "tensor(0.0257, grad_fn=<MeanBackward0>)\n",
      "tensor(0.0911, grad_fn=<MeanBackward0>)\n",
      "tensor(0.1530, grad_fn=<MeanBackward0>)\n",
      "tensor(0.1908, grad_fn=<MeanBackward0>)\n",
      "tensor(0.2060, grad_fn=<MeanBackward0>)\n",
      "tensor(0.2026, grad_fn=<MeanBackward0>)\n",
      "tensor(0.1841, grad_fn=<MeanBackward0>)\n",
      "tensor(0.1530, grad_fn=<MeanBackward0>)\n",
      "tensor(0.1115, grad_fn=<MeanBackward0>)\n",
      "tensor(0.0614, grad_fn=<MeanBackward0>)\n"
     ]
    }
   ],
   "source": []
  },
  {
   "cell_type": "markdown",
   "id": "517ef805",
   "metadata": {},
   "source": [
    "## requires_grad\n",
    "requires_grad是Pytorch中通用数据结构Tensor的一个属性，用于说明当前量是否需要在计算中保留对应的梯度信息，以线性回归为例，容易知道权重w和偏差b为需要训练的对象，为了得到最合适的参数值，我们需要设置一个相关的损失函数，根据梯度回传的思路进行训练。\n",
    "\n",
    "官方文档中的说明如下\n",
    "\n",
    "If there’s a single input to an operation that requires gradient, its output will also require gradient\n",
    "只要某一个输入需要相关梯度值，则输出也需要保存相关梯度信息，这样就保证了这个输入的梯度回传。 而反之，若所有的输入都不需要保存梯度，那么输出的requires_grad会自动设置为False。既然没有了相关的梯度值，自然进行反向传播时会将这部分子图从计算中剔除。\n",
    "\n",
    "对于那些要求梯度的tensor，PyTorch会存储他们相关梯度信息和产生他们的操作，这产生额外内存消耗，为了优化内存使用，默认产生的tensor是不需要梯度的。 而我们在使用神经网络时，这些全连接层卷积层等结构的参数都是默认需要梯度的。\n",
    "\n",
    "以下代码中需要注意require_grad和require_grad_的使用区别。"
   ]
  },
  {
   "cell_type": "code",
   "execution_count": 11,
   "id": "da5524d8",
   "metadata": {},
   "outputs": [
    {
     "ename": "NameError",
     "evalue": "name 'models' is not defined",
     "output_type": "error",
     "traceback": [
      "\u001b[1;31m---------------------------------------------------------------------------\u001b[0m",
      "\u001b[1;31mNameError\u001b[0m                                 Traceback (most recent call last)",
      "Cell \u001b[1;32mIn[11], line 3\u001b[0m\n\u001b[0;32m      1\u001b[0m \u001b[38;5;66;03m# 在迁移学习等，通常采用预训练模型等，通常要固定预训练模型中的一部分参数，这是就可以将它的requires_grad参数置为False，如以下例所示：\u001b[39;00m\n\u001b[1;32m----> 3\u001b[0m vgg19 \u001b[38;5;241m=\u001b[39m \u001b[43mmodels\u001b[49m\u001b[38;5;241m.\u001b[39mvgg19(pretrained\u001b[38;5;241m=\u001b[39m\u001b[38;5;28;01mTrue\u001b[39;00m)\u001b[38;5;241m.\u001b[39mto(device)\n\u001b[0;32m      4\u001b[0m vgg \u001b[38;5;241m=\u001b[39m vgg19\u001b[38;5;241m.\u001b[39mfeatures\n\u001b[0;32m      5\u001b[0m \u001b[38;5;28;01mfor\u001b[39;00m param \u001b[38;5;129;01min\u001b[39;00m vgg\u001b[38;5;241m.\u001b[39mparameters():\n",
      "\u001b[1;31mNameError\u001b[0m: name 'models' is not defined"
     ]
    }
   ],
   "source": [
    "# 在迁移学习等，通常采用预训练模型等，通常要固定预训练模型中的一部分参数，这是就可以将它的requires_grad参数置为False，如以下例所示：\n",
    "\n",
    "vgg19 = models.vgg19(pretrained=True).to(device)\n",
    "vgg = vgg19.features\n",
    "for param in vgg.parameters():\n",
    "    param.requires_grad_(False)"
   ]
  },
  {
   "cell_type": "code",
   "execution_count": 12,
   "id": "761ee53b",
   "metadata": {},
   "outputs": [
    {
     "name": "stdout",
     "output_type": "stream",
     "text": [
      "tensor([2.]) tensor([2.])\n",
      "tensor([3.]) tensor([3.])\n",
      "tensor([6.])\n",
      "None\n",
      "None\n"
     ]
    }
   ],
   "source": [
    "import torch\n",
    "\n",
    "N, D = 1, 1\n",
    "x1 = torch.Tensor([2]).requires_grad_(True)\n",
    "y1 = torch.Tensor([2])\n",
    "z1 = torch.Tensor([2])\n",
    "\n",
    "# y2 = torch.Tensor([3])\n",
    "# z2 = torch.Tensor([3])\n",
    "\n",
    "y2 = torch.Tensor([3]).requires_grad_(False)\n",
    "z2 = torch.Tensor([3]).requires_grad_(False)\n",
    "\n",
    "print(y1, z1)\n",
    "print(y2, z2)\n",
    "\n",
    "a1 = x1 * y1\n",
    "b1 = a1 + z1\n",
    "\n",
    "a2 = b1 * y2\n",
    "b2 = a2 + z2\n",
    "\n",
    "b2.backward()\n",
    "print(x1.grad)\n",
    "print(y1.grad) # why 'None' for y1.grad?\n",
    "print(y2.grad)"
   ]
  },
  {
   "cell_type": "code",
   "execution_count": 13,
   "id": "670143ec",
   "metadata": {},
   "outputs": [
    {
     "name": "stdout",
     "output_type": "stream",
     "text": [
      "tensor([1., 1.]) True\n",
      "tensor([0.5000, 0.5000]) True\n",
      "None True\n",
      "None True\n"
     ]
    },
    {
     "name": "stderr",
     "output_type": "stream",
     "text": [
      "C:\\Users\\chenxy\\AppData\\Local\\Temp\\ipykernel_26148\\1395319411.py:11: UserWarning: The .grad attribute of a Tensor that is not a leaf Tensor is being accessed. Its .grad attribute won't be populated during autograd.backward(). If you indeed want the .grad field to be populated for a non-leaf Tensor, use .retain_grad() on the non-leaf Tensor. If you access the non-leaf Tensor by mistake, make sure you access the leaf Tensor instead. See github.com/pytorch/pytorch/pull/30531 for more informations. (Triggered internally at C:\\cb\\pytorch_1000000000000\\work\\build\\aten\\src\\ATen/core/TensorBody.h:491.)\n",
      "  print(y.grad, y.requires_grad)\n",
      "C:\\Users\\chenxy\\AppData\\Local\\Temp\\ipykernel_26148\\1395319411.py:12: UserWarning: The .grad attribute of a Tensor that is not a leaf Tensor is being accessed. Its .grad attribute won't be populated during autograd.backward(). If you indeed want the .grad field to be populated for a non-leaf Tensor, use .retain_grad() on the non-leaf Tensor. If you access the non-leaf Tensor by mistake, make sure you access the leaf Tensor instead. See github.com/pytorch/pytorch/pull/30531 for more informations. (Triggered internally at C:\\cb\\pytorch_1000000000000\\work\\build\\aten\\src\\ATen/core/TensorBody.h:491.)\n",
      "  print(z.grad, z.requires_grad)\n"
     ]
    }
   ],
   "source": [
    "import torch\n",
    "x = torch.tensor([1, 2], dtype=torch.float32, requires_grad=True)\n",
    "a = torch.tensor([3, 4], dtype=torch.float32, requires_grad=True)\n",
    "y = x * 2 + a\n",
    "y.requires_grad_(True)\n",
    "z = torch.mean(y)\n",
    "\n",
    "z.backward()\n",
    "print(x.grad, x.requires_grad)\n",
    "print(a.grad, a.requires_grad)\n",
    "print(y.grad, y.requires_grad)\n",
    "print(z.grad, z.requires_grad)\n",
    "\n",
    "#  以下结果需要设置a的requires_grad=False或取消这个参数。\n",
    "#  tensor([1., 1.]) True\n",
    "#  None False\n",
    "#  None True\n",
    "#  None True"
   ]
  },
  {
   "cell_type": "code",
   "execution_count": null,
   "id": "df9bef7a",
   "metadata": {},
   "outputs": [],
   "source": [
    "# 定义一个计时器类，用于进行运行时间的基准测试\n",
    "class Timer:  #@save\n",
    "    \"\"\"记录多次运行时间\"\"\"\n",
    "    def __init__(self):\n",
    "        self.times = []\n",
    "        self.start()\n",
    "\n",
    "    def start(self):\n",
    "        \"\"\"启动计时器\"\"\"\n",
    "        self.tik = time.time()\n",
    "\n",
    "    def stop(self):\n",
    "        \"\"\"停止计时器并将时间记录在列表中\"\"\"\n",
    "        self.times.append(time.time() - self.tik)\n",
    "        return self.times[-1]\n",
    "\n",
    "    def avg(self):\n",
    "        \"\"\"返回平均时间\"\"\"\n",
    "        return sum(self.times) / len(self.times)\n",
    "\n",
    "    def sum(self):\n",
    "        \"\"\"返回时间总和\"\"\"\n",
    "        return sum(self.times)\n",
    "\n",
    "    def cumsum(self):\n",
    "        \"\"\"返回累计时间\"\"\"\n",
    "        return np.array(self.times).cumsum().tolist()"
   ]
  },
  {
   "cell_type": "code",
   "execution_count": null,
   "id": "14f4c9cc",
   "metadata": {},
   "outputs": [],
   "source": [
    "n = 10000\n",
    "a = torch.ones([n])\n",
    "b = torch.ones([n])\n",
    "c = torch.zeros(n)\n",
    "timer = Timer()\n",
    "for i in range(n):\n",
    "    c[i] = a[i] + b[i]\n",
    "f'{timer.stop():.5f} sec'\n",
    "timer.start()\n",
    "d = a + b\n",
    "f'{timer.stop():.5f} sec'"
   ]
  }
 ],
 "metadata": {
  "kernelspec": {
   "display_name": "Python 3 (ipykernel)",
   "language": "python",
   "name": "python3"
  },
  "language_info": {
   "codemirror_mode": {
    "name": "ipython",
    "version": 3
   },
   "file_extension": ".py",
   "mimetype": "text/x-python",
   "name": "python",
   "nbconvert_exporter": "python",
   "pygments_lexer": "ipython3",
   "version": "3.10.9"
  }
 },
 "nbformat": 4,
 "nbformat_minor": 5
}
