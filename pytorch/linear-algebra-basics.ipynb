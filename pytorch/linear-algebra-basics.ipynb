{
 "cells": [
  {
   "cell_type": "code",
   "execution_count": 1,
   "id": "628de172",
   "metadata": {},
   "outputs": [
    {
     "data": {
      "text/plain": [
       "(tensor(5.), tensor(6.), tensor(1.5000), tensor(9.))"
      ]
     },
     "execution_count": 1,
     "metadata": {},
     "output_type": "execute_result"
    }
   ],
   "source": [
    "import torch"
   ]
  },
  {
   "cell_type": "code",
   "execution_count": 2,
   "id": "19c59c55",
   "metadata": {},
   "outputs": [
    {
     "name": "stdout",
     "output_type": "stream",
     "text": [
      "tensor(5.) tensor(6.) tensor(1.5000) tensor(9.)\n",
      "tensor([0, 1, 2, 3]) torch.Size([4])\n"
     ]
    }
   ],
   "source": [
    "# scalar\n",
    "x = torch.tensor(3.0)\n",
    "y = torch.tensor(2.0)\n",
    "\n",
    "print(x + y, x * y, x / y, x**y)\n",
    "\n",
    "# vector\n",
    "x = torch.arange(4)\n",
    "print(x,x.shape)"
   ]
  },
  {
   "cell_type": "markdown",
   "id": "64810f4e",
   "metadata": {},
   "source": [
    "尽管单个向量的默认方向是列向量，但在表示表格数据集的矩阵中， 将每个数据样本作为矩阵中的行向量更为常见。 后面的章节将讲到这点，这种约定将支持常见的深度学习实践。 例如，沿着张量的最外轴，我们可以访问或遍历小批量的数据样本。"
   ]
  },
  {
   "cell_type": "code",
   "execution_count": 3,
   "id": "55805d51",
   "metadata": {},
   "outputs": [
    {
     "data": {
      "text/plain": [
       "tensor([[ 0,  1,  2,  3],\n",
       "        [ 4,  5,  6,  7],\n",
       "        [ 8,  9, 10, 11],\n",
       "        [12, 13, 14, 15],\n",
       "        [16, 17, 18, 19]])"
      ]
     },
     "execution_count": 3,
     "metadata": {},
     "output_type": "execute_result"
    }
   ],
   "source": [
    "# Matrix\n",
    "A = torch.arange(20).reshape(5, 4)\n",
    "A"
   ]
  },
  {
   "cell_type": "code",
   "execution_count": 4,
   "id": "da6663cf",
   "metadata": {},
   "outputs": [
    {
     "name": "stdout",
     "output_type": "stream",
     "text": [
      "X = tensor([[[ 0,  1,  2,  3],\n",
      "         [ 4,  5,  6,  7],\n",
      "         [ 8,  9, 10, 11]],\n",
      "\n",
      "        [[12, 13, 14, 15],\n",
      "         [16, 17, 18, 19],\n",
      "         [20, 21, 22, 23]]])\n"
     ]
    }
   ],
   "source": [
    "# Tensor\n",
    "X = torch.arange(24).reshape(2, 3, 4)\n",
    "print(f'X = {X}')"
   ]
  },
  {
   "cell_type": "code",
   "execution_count": 8,
   "id": "0fb8e9e8",
   "metadata": {},
   "outputs": [
    {
     "name": "stdout",
     "output_type": "stream",
     "text": [
      "tensor([[ 0.,  1.,  2.,  3.],\n",
      "        [ 4.,  5.,  6.,  7.],\n",
      "        [ 8.,  9., 10., 11.],\n",
      "        [12., 13., 14., 15.],\n",
      "        [16., 17., 18., 19.]]) \n",
      " tensor([[ 0.,  2.,  4.,  6.],\n",
      "        [ 8., 10., 12., 14.],\n",
      "        [16., 18., 20., 22.],\n",
      "        [24., 26., 28., 30.],\n",
      "        [32., 34., 36., 38.]])\n",
      "2293499591952 2293499591552\n"
     ]
    }
   ],
   "source": [
    "A = torch.arange(20, dtype=torch.float32).reshape(5, 4)\n",
    "B = A.clone()  # 通过分配新内存，将A的一个副本分配给B. Note: not copy()!\n",
    "print(A, \"\\n\", A + B)\n",
    "print(id(A),id(B))"
   ]
  },
  {
   "cell_type": "code",
   "execution_count": 7,
   "id": "ee4a5be3",
   "metadata": {},
   "outputs": [
    {
     "name": "stdout",
     "output_type": "stream",
     "text": [
      "tensor([[  0.,   1.,   4.,   9.],\n",
      "        [ 16.,  25.,  36.,  49.],\n",
      "        [ 64.,  81., 100., 121.],\n",
      "        [144., 169., 196., 225.],\n",
      "        [256., 289., 324., 361.]])\n"
     ]
    }
   ],
   "source": [
    "# Hardmard product\n",
    "print(A * B)"
   ]
  },
  {
   "cell_type": "code",
   "execution_count": 10,
   "id": "e38a69a2",
   "metadata": {},
   "outputs": [
    {
     "data": {
      "text/plain": [
       "(tensor([[[ 2,  3,  4,  5],\n",
       "          [ 6,  7,  8,  9],\n",
       "          [10, 11, 12, 13]],\n",
       " \n",
       "         [[14, 15, 16, 17],\n",
       "          [18, 19, 20, 21],\n",
       "          [22, 23, 24, 25]]]),\n",
       " torch.Size([2, 3, 4]))"
      ]
     },
     "execution_count": 10,
     "metadata": {},
     "output_type": "execute_result"
    }
   ],
   "source": [
    "# Broadcasting\n",
    "# 将张量乘以或加上一个标量不会改变张量的形状，其中张量的每个元素都将与标量相加或相乘。\n",
    "a = 2\n",
    "X = torch.arange(24).reshape(2, 3, 4)\n",
    "a + X, (a * X).shape"
   ]
  },
  {
   "cell_type": "code",
   "execution_count": 11,
   "id": "bf122d44",
   "metadata": {},
   "outputs": [
    {
     "name": "stdout",
     "output_type": "stream",
     "text": [
      "tensor([0., 1., 2., 3.]) tensor(6.)\n"
     ]
    }
   ],
   "source": [
    "# Reduction\n",
    "x = torch.arange(4, dtype=torch.float32)\n",
    "print(x, x.sum())"
   ]
  },
  {
   "cell_type": "markdown",
   "id": "5eb497cf",
   "metadata": {},
   "source": [
    "针对高阶张量，默认情况下，调用求和函数会沿所有的轴降低张量的维度，使它变为一个标量。我们还可以指定张量沿哪一个轴来通过求和降低维度。 以矩阵为例，为了通过求和所有行的元素来降维（轴0），可以在调用函数时指定axis=0。 由于输入矩阵沿0轴降维以生成输出向量，因此输入轴0的维数在输出形状中消失。\n",
    " \n",
    " 其实可以看做两个步骤：\n",
    " \n",
    " (1) 首先沿指定轴进行reduction运算将该轴的长度变为1\n",
    " \n",
    " (2) 其次，通过类似于numpy的squeeze()操作将该长度为1的轴消除掉"
   ]
  },
  {
   "cell_type": "code",
   "execution_count": 19,
   "id": "3c9c31e1",
   "metadata": {},
   "outputs": [
    {
     "name": "stdout",
     "output_type": "stream",
     "text": [
      "tensor(276) tensor([ 84,  92, 100]) tensor(276)\n",
      "tensor([[36, 40, 44],\n",
      "        [48, 52, 56]])\n",
      "tensor([[ 3,  5,  7],\n",
      "        [15, 17, 19],\n",
      "        [27, 29, 31],\n",
      "        [39, 41, 43]])\n",
      "tensor([[ 3, 12],\n",
      "        [21, 30],\n",
      "        [39, 48],\n",
      "        [57, 66]])\n"
     ]
    }
   ],
   "source": [
    "x = torch.arange(24).reshape(4,2,3)\n",
    "print(x.sum(), x.sum([0,1]), x.sum([0,1,2]))\n",
    "print(x.sum(axis=0))\n",
    "print(x.sum(axis=1))\n",
    "print(x.sum(axis=2))"
   ]
  },
  {
   "cell_type": "code",
   "execution_count": 14,
   "id": "887a53fb",
   "metadata": {},
   "outputs": [
    {
     "name": "stdout",
     "output_type": "stream",
     "text": [
      "[[36 40 44]\n",
      " [48 52 56]]\n",
      "[[ 3  5  7]\n",
      " [15 17 19]\n",
      " [27 29 31]\n",
      " [39 41 43]]\n",
      "[[ 3 12]\n",
      " [21 30]\n",
      " [39 48]\n",
      " [57 66]]\n"
     ]
    }
   ],
   "source": [
    "import numpy as np\n",
    "x = np.arange(24).reshape(4,2,3)\n",
    "print(x.sum(axis=0))\n",
    "print(x.sum(axis=1))\n",
    "print(x.sum(axis=2))"
   ]
  },
  {
   "cell_type": "code",
   "execution_count": 21,
   "id": "2c1106de",
   "metadata": {},
   "outputs": [
    {
     "name": "stdout",
     "output_type": "stream",
     "text": [
      "[[[ 0  1  2  3  4  5]]\n",
      "\n",
      " [[ 6  7  8  9 10 11]]\n",
      "\n",
      " [[12 13 14 15 16 17]]\n",
      "\n",
      " [[18 19 20 21 22 23]]]\n",
      "[[ 0  1  2  3  4  5]\n",
      " [ 6  7  8  9 10 11]\n",
      " [12 13 14 15 16 17]\n",
      " [18 19 20 21 22 23]]\n"
     ]
    }
   ],
   "source": [
    "x = np.arange(24).reshape(4,1,-1)\n",
    "print(x)\n",
    "print(x.squeeze())"
   ]
  },
  {
   "cell_type": "code",
   "execution_count": 25,
   "id": "f88d19c9",
   "metadata": {},
   "outputs": [
    {
     "name": "stdout",
     "output_type": "stream",
     "text": [
      "tensor(11.5000, dtype=torch.float64)\n",
      "tensor(11.5000)\n"
     ]
    }
   ],
   "source": [
    "x = torch.arange(24).reshape(4,2,3)\n",
    "print(x.mean(dtype=float))\n",
    "print(x.sum()/x.numel())"
   ]
  },
  {
   "cell_type": "code",
   "execution_count": 37,
   "id": "c06cc631",
   "metadata": {},
   "outputs": [
    {
     "name": "stdout",
     "output_type": "stream",
     "text": [
      "tensor([[ 15],\n",
      "        [ 51],\n",
      "        [ 87],\n",
      "        [123]])\n",
      "tensor([ 15,  51,  87, 123])\n"
     ]
    }
   ],
   "source": [
    "# 可以在指定进行reduction的轴后用keepdims=True来要求经过mean()或者sum()后保持轴\n",
    "A = torch.arange(24).reshape(4,-1)\n",
    "print(A.sum(axis=1, keepdims=True))\n",
    "print(A.sum(axis=1, keepdims=False))"
   ]
  },
  {
   "cell_type": "code",
   "execution_count": 35,
   "id": "62b90136",
   "metadata": {},
   "outputs": [
    {
     "data": {
      "text/plain": [
       "tensor([[ 15],\n",
       "        [ 51],\n",
       "        [ 87],\n",
       "        [123]])"
      ]
     },
     "execution_count": 35,
     "metadata": {},
     "output_type": "execute_result"
    }
   ],
   "source": [
    "A = torch.arange(24).reshape(4,-1)\n",
    "sum_A = A.sum(axis=1, keepdims=True)\n",
    "sum_A"
   ]
  },
  {
   "cell_type": "code",
   "execution_count": 40,
   "id": "e79d2fd8",
   "metadata": {},
   "outputs": [
    {
     "name": "stdout",
     "output_type": "stream",
     "text": [
      "tensor([[ 0,  1,  2,  3,  4,  5],\n",
      "        [ 6,  8, 10, 12, 14, 16],\n",
      "        [18, 21, 24, 27, 30, 33],\n",
      "        [36, 40, 44, 48, 52, 56]])\n",
      "tensor([[  0,   1,   3,   6,  10,  15],\n",
      "        [  6,  13,  21,  30,  40,  51],\n",
      "        [ 12,  25,  39,  54,  70,  87],\n",
      "        [ 18,  37,  57,  78, 100, 123]])\n"
     ]
    }
   ],
   "source": [
    "print(A.cumsum(axis=0))\n",
    "print(A.cumsum(axis=1))"
   ]
  },
  {
   "cell_type": "code",
   "execution_count": 43,
   "id": "19211864",
   "metadata": {},
   "outputs": [
    {
     "data": {
      "text/plain": [
       "(tensor([0., 1., 2., 3.]), tensor([1., 1., 1., 1.]), tensor(6.), tensor(6.))"
      ]
     },
     "execution_count": 43,
     "metadata": {},
     "output_type": "execute_result"
    }
   ],
   "source": [
    "# dot-product\n",
    "y = torch.ones(4, dtype = torch.float32)\n",
    "x = torch.arange(4, dtype = torch.float32)\n",
    "x, y, torch.dot(x, y), torch.sum(x * y)"
   ]
  },
  {
   "cell_type": "code",
   "execution_count": 49,
   "id": "a1fa1dcd",
   "metadata": {},
   "outputs": [
    {
     "name": "stdout",
     "output_type": "stream",
     "text": [
      "torch.Size([6, 4]) torch.Size([4]) tensor([ 84.,  90.,  96., 102., 108., 114.])\n"
     ]
    }
   ],
   "source": [
    "# matrix-vector product\n",
    "A = torch.arange(24, dtype = torch.float32).reshape(4,-1).T\n",
    "x = torch.arange(4, dtype = torch.float32)\n",
    "print(A.shape, x.shape, torch.mv(A, x))"
   ]
  },
  {
   "cell_type": "code",
   "execution_count": 51,
   "id": "ab4187c5",
   "metadata": {},
   "outputs": [
    {
     "name": "stdout",
     "output_type": "stream",
     "text": [
      "tensor([[36., 36., 36.],\n",
      "        [40., 40., 40.],\n",
      "        [44., 44., 44.],\n",
      "        [48., 48., 48.],\n",
      "        [52., 52., 52.],\n",
      "        [56., 56., 56.]]) torch.Size([6, 3])\n"
     ]
    }
   ],
   "source": [
    "# matrix-matrix product\n",
    "B = torch.ones(4, 3)\n",
    "C = torch.mm(A, B)\n",
    "print(C , C.shape)"
   ]
  },
  {
   "cell_type": "code",
   "execution_count": 54,
   "id": "28dbbfab",
   "metadata": {},
   "outputs": [
    {
     "name": "stdout",
     "output_type": "stream",
     "text": [
      "tensor(3.7417) tensor(3.7417)\n",
      "tensor(6.)\n"
     ]
    }
   ],
   "source": [
    "# L2 Norm\n",
    "x = torch.arange(4, dtype = torch.float32)\n",
    "print(x.norm(), torch.sqrt(torch.sum(x * x)))\n",
    "\n",
    "# L1 norm\n",
    "print(x.abs().sum())"
   ]
  },
  {
   "cell_type": "code",
   "execution_count": 55,
   "id": "9ede17a7",
   "metadata": {},
   "outputs": [
    {
     "name": "stdout",
     "output_type": "stream",
     "text": [
      "tensor(65.7571)\n"
     ]
    }
   ],
   "source": [
    "# Frobenius norm\n",
    "A = torch.arange(24, dtype = torch.float32).reshape(4,-1)\n",
    "print(torch.sqrt(torch.sum(A * A)))"
   ]
  },
  {
   "cell_type": "code",
   "execution_count": null,
   "id": "8a4f7100",
   "metadata": {},
   "outputs": [],
   "source": []
  }
 ],
 "metadata": {
  "kernelspec": {
   "display_name": "Python 3 (ipykernel)",
   "language": "python",
   "name": "python3"
  },
  "language_info": {
   "codemirror_mode": {
    "name": "ipython",
    "version": 3
   },
   "file_extension": ".py",
   "mimetype": "text/x-python",
   "name": "python",
   "nbconvert_exporter": "python",
   "pygments_lexer": "ipython3",
   "version": "3.8.5"
  }
 },
 "nbformat": 4,
 "nbformat_minor": 5
}
